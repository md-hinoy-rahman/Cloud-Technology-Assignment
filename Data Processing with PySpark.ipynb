{
  "nbformat": 4,
  "nbformat_minor": 0,
  "metadata": {
    "colab": {
      "provenance": []
    },
    "kernelspec": {
      "name": "python3",
      "display_name": "Python 3"
    },
    "language_info": {
      "name": "python"
    }
  },
  "cells": [
    {
      "cell_type": "markdown",
      "source": [
        "Importing ***PySpark*** and other libraries."
      ],
      "metadata": {
        "id": "EQT-81mFRP3l"
      }
    },
    {
      "cell_type": "code",
      "execution_count": 4,
      "metadata": {
        "colab": {
          "base_uri": "https://localhost:8080/"
        },
        "id": "Wfa7Xmd9RK-M",
        "outputId": "f8f9a39f-c73f-45f6-b8b8-c0b9bc49f6ee"
      },
      "outputs": [
        {
          "output_type": "stream",
          "name": "stdout",
          "text": [
            "Requirement already satisfied: pyspark in /usr/local/lib/python3.10/dist-packages (3.5.3)\n",
            "Requirement already satisfied: py4j==0.10.9.7 in /usr/local/lib/python3.10/dist-packages (from pyspark) (0.10.9.7)\n"
          ]
        }
      ],
      "source": [
        "!pip install pyspark\n",
        "import pyspark\n",
        "from pyspark.sql import SparkSession"
      ]
    },
    {
      "cell_type": "markdown",
      "source": [
        "Creating a Spark session."
      ],
      "metadata": {
        "id": "o0jcscFCSADo"
      }
    },
    {
      "cell_type": "code",
      "source": [
        "spark = SparkSession.builder.appName(\"StatisticalAnalysisApp\").getOrCreate()\n",
        "spark"
      ],
      "metadata": {
        "colab": {
          "base_uri": "https://localhost:8080/",
          "height": 219
        },
        "id": "QVza4f17R1Kf",
        "outputId": "684f57fb-1c75-4222-8b24-23acf2c33cd5"
      },
      "execution_count": 5,
      "outputs": [
        {
          "output_type": "execute_result",
          "data": {
            "text/plain": [
              "<pyspark.sql.session.SparkSession at 0x7928c4369330>"
            ],
            "text/html": [
              "\n",
              "            <div>\n",
              "                <p><b>SparkSession - in-memory</b></p>\n",
              "                \n",
              "        <div>\n",
              "            <p><b>SparkContext</b></p>\n",
              "\n",
              "            <p><a href=\"http://e6b84324b91b:4040\">Spark UI</a></p>\n",
              "\n",
              "            <dl>\n",
              "              <dt>Version</dt>\n",
              "                <dd><code>v3.5.3</code></dd>\n",
              "              <dt>Master</dt>\n",
              "                <dd><code>local[*]</code></dd>\n",
              "              <dt>AppName</dt>\n",
              "                <dd><code>StatisticalAnalysisApp</code></dd>\n",
              "            </dl>\n",
              "        </div>\n",
              "        \n",
              "            </div>\n",
              "        "
            ]
          },
          "metadata": {},
          "execution_count": 5
        }
      ]
    },
    {
      "cell_type": "markdown",
      "source": [
        "Reading a cleaned and preprocessed dataset from Google Drive titled \"***finalcleaned3 (1)***\"."
      ],
      "metadata": {
        "id": "Z0DzYwOUsq0Z"
      }
    },
    {
      "cell_type": "code",
      "source": [
        "ds = spark.read.csv(\"/content/drive/MyDrive/Cloud Technologies/Notebooks/finalcleaned3 (1).csv\", header=True, inferSchema=True)\n"
      ],
      "metadata": {
        "id": "x2tjz8kgSWSV"
      },
      "execution_count": 6,
      "outputs": []
    },
    {
      "cell_type": "markdown",
      "source": [
        "Showing the Dataset. Showing first 20 rows."
      ],
      "metadata": {
        "id": "dKp2g7MdSrRf"
      }
    },
    {
      "cell_type": "code",
      "source": [
        "ds.show()"
      ],
      "metadata": {
        "colab": {
          "base_uri": "https://localhost:8080/"
        },
        "id": "3nKO7-LGSv9D",
        "outputId": "3181f173-71d5-465b-dbcd-5bb1fca94328"
      },
      "execution_count": 7,
      "outputs": [
        {
          "output_type": "stream",
          "name": "stdout",
          "text": [
            "+---------------+-----------+-------+--------+----------------------------+-----------------------------+-------------------------------------------------------+-------------------------------------------------------+-------------+-----------------------+-----------+--------------------+------------------+-----------------------+\n",
            "|header.location|map.country|map.lat| map.lng|salary.salaries.val.jobTitle|salary.salaries.val.payPeriod|salary.salaries.val.salaryPercentileMap.payPercentile10|salary.salaries.val.salaryPercentileMap.payPercentile90|    Continent|adjusted_pay_percentile|    Country|Cost of Living Index| percentile10by100|Purchasing Power Parity|\n",
            "+---------------+-----------+-------+--------+----------------------------+-----------------------------+-------------------------------------------------------+-------------------------------------------------------+-------------+-----------------------+-----------+--------------------+------------------+-----------------------+\n",
            "|          porto|   Portugal|  41.15| -8.6167|             Account Manager|                       ANNUAL|                                               48821.56|                                               56958.49|       Europe|     105780.04999999999|   Portugal|                45.1|         4882156.0|     108251.79600886918|\n",
            "|          porto|   Portugal|  41.15| -8.6167|           Territory Manager|                       ANNUAL|                                               40148.52|                                               44095.09|       Europe|      84243.60999999999|   Portugal|                45.1|4014851.9999999995|      89021.10864745009|\n",
            "|          porto|   Portugal|  41.15| -8.6167|            Health Economist|                       ANNUAL|                                               36371.71|                                               69231.05|       Europe|     105602.76000000001|   Portugal|                45.1|         3637171.0|      80646.80709534368|\n",
            "|          porto|   Portugal|  41.15| -8.6167|        Pharmaceutical Sa...|                       ANNUAL|                                               41213.93|                                               49304.78|       Europe|      90518.70999999999|   Portugal|                45.1|         4121393.0|      91383.43680709534|\n",
            "|          porto|   Portugal|  41.15| -8.6167|        Pharmaceuticals S...|                       ANNUAL|                                               45162.85|                                               53661.02|       Europe|               98823.87|   Portugal|                45.1|         4516285.0|     100139.35698447893|\n",
            "|       colombia|  Venezuela|    0.0|     0.0|           Customer Engineer|                       ANNUAL|                                               17164.41|                                                22479.6|South America|     39644.009999999995|  Venezuela|                38.3|         1716441.0|     44815.691906005224|\n",
            "|       colombia|  Venezuela|    0.0|     0.0|           Software Engineer|                       ANNUAL|                                                32487.3|                                               47644.67|South America|               80131.97|  Venezuela|                38.3|         3248730.0|      84823.23759791124|\n",
            "|       colombia|  Venezuela|    0.0|     0.0|        Senior Software E...|                       ANNUAL|                                               40322.09|                                               61198.19|South America|              101520.28|  Venezuela|                38.3|4032208.9999999995|     105279.60835509138|\n",
            "|       colombia|  Venezuela|    0.0|     0.0|          Software Developer|                       ANNUAL|                                               32098.77|                                               41979.24|South America|               74078.01|  Venezuela|                38.3|         3209877.0|      83808.79895561359|\n",
            "|       colombia|  Venezuela|    0.0|     0.0|              Field Engineer|                       ANNUAL|                                               15771.91|                                               24133.52|South America|               39905.43|  Venezuela|                38.3|         1577191.0|      41179.92167101828|\n",
            "|          seoul|South Korea|37.5664|126.9997|           Software Engineer|                       ANNUAL|                                               36284.58|                                               62410.23|         Asia|               98694.81|South Korea|                60.1|         3628458.0|       60373.6772046589|\n",
            "|          seoul|South Korea|37.5664|126.9997|             Account Manager|                       ANNUAL|                                               38786.02|                                               75743.22|         Asia|     114529.23999999999|South Korea|                60.1|3878601.9999999995|     64535.806988352735|\n",
            "|          seoul|South Korea|37.5664|126.9997|            Systems Engineer|                       ANNUAL|                                               37714.61|                                               79738.97|         Asia|              117453.58|South Korea|                60.1|         3771461.0|      62753.09484193011|\n",
            "|          seoul|South Korea|37.5664|126.9997|        Senior Software E...|                       ANNUAL|                                               44339.16|                                               72138.61|         Asia|              116477.77|South Korea|                60.1|         4433916.0|      73775.64059900166|\n",
            "|          seoul|South Korea|37.5664|126.9997|        Consulting System...|                       ANNUAL|                                               55322.72|                                               98173.18|         Asia|               153495.9|South Korea|                60.1|         5532272.0|      92051.11480865224|\n",
            "|          paris|     France|48.8667|  2.3333|                  Consultant|                       ANNUAL|                                               45658.01|                                               60129.51|       Europe|              105787.52|     France|                63.7|         4565801.0|      71676.62480376766|\n",
            "|          paris|     France|48.8667|  2.3333|                     Analyst|                       ANNUAL|                                               32303.37|                                               38334.62|       Europe|               70637.99|     France|                63.7|         3230337.0|      50711.72684458399|\n",
            "|          paris|     France|48.8667|  2.3333|                     Manager|                       ANNUAL|                                               69583.35|                                               91187.28|       Europe|              160770.63|     France|                63.7| 6958335.000000001|     109236.02825745684|\n",
            "|          paris|     France|48.8667|  2.3333|              Senior Manager|                       ANNUAL|                                               88201.45|                                              131868.18|       Europe|              220069.63|     France|                63.7|         8820145.0|      138463.8147566719|\n",
            "|          paris|     France|48.8667|  2.3333|        Management Consul...|                       ANNUAL|                                               45795.54|                                               60812.83|       Europe|              106608.37|     France|                63.7|         4579554.0|      71892.52747252746|\n",
            "+---------------+-----------+-------+--------+----------------------------+-----------------------------+-------------------------------------------------------+-------------------------------------------------------+-------------+-----------------------+-----------+--------------------+------------------+-----------------------+\n",
            "only showing top 20 rows\n",
            "\n"
          ]
        }
      ]
    },
    {
      "cell_type": "markdown",
      "source": [
        "Now Showing top 30 rows."
      ],
      "metadata": {
        "id": "SH4pqd6RTS3f"
      }
    },
    {
      "cell_type": "code",
      "source": [
        "ds.show(30)"
      ],
      "metadata": {
        "colab": {
          "base_uri": "https://localhost:8080/"
        },
        "id": "eGHm3_pUSw2x",
        "outputId": "7141dcd8-97a8-48bf-e4d6-04991e7f7e2e"
      },
      "execution_count": 8,
      "outputs": [
        {
          "output_type": "stream",
          "name": "stdout",
          "text": [
            "+---------------+--------------+-------+--------+----------------------------+-----------------------------+-------------------------------------------------------+-------------------------------------------------------+-------------+-----------------------+--------------+--------------------+------------------+-----------------------+\n",
            "|header.location|   map.country|map.lat| map.lng|salary.salaries.val.jobTitle|salary.salaries.val.payPeriod|salary.salaries.val.salaryPercentileMap.payPercentile10|salary.salaries.val.salaryPercentileMap.payPercentile90|    Continent|adjusted_pay_percentile|       Country|Cost of Living Index| percentile10by100|Purchasing Power Parity|\n",
            "+---------------+--------------+-------+--------+----------------------------+-----------------------------+-------------------------------------------------------+-------------------------------------------------------+-------------+-----------------------+--------------+--------------------+------------------+-----------------------+\n",
            "|          porto|      Portugal|  41.15| -8.6167|             Account Manager|                       ANNUAL|                                               48821.56|                                               56958.49|       Europe|     105780.04999999999|      Portugal|                45.1|         4882156.0|     108251.79600886918|\n",
            "|          porto|      Portugal|  41.15| -8.6167|           Territory Manager|                       ANNUAL|                                               40148.52|                                               44095.09|       Europe|      84243.60999999999|      Portugal|                45.1|4014851.9999999995|      89021.10864745009|\n",
            "|          porto|      Portugal|  41.15| -8.6167|            Health Economist|                       ANNUAL|                                               36371.71|                                               69231.05|       Europe|     105602.76000000001|      Portugal|                45.1|         3637171.0|      80646.80709534368|\n",
            "|          porto|      Portugal|  41.15| -8.6167|        Pharmaceutical Sa...|                       ANNUAL|                                               41213.93|                                               49304.78|       Europe|      90518.70999999999|      Portugal|                45.1|         4121393.0|      91383.43680709534|\n",
            "|          porto|      Portugal|  41.15| -8.6167|        Pharmaceuticals S...|                       ANNUAL|                                               45162.85|                                               53661.02|       Europe|               98823.87|      Portugal|                45.1|         4516285.0|     100139.35698447893|\n",
            "|       colombia|     Venezuela|    0.0|     0.0|           Customer Engineer|                       ANNUAL|                                               17164.41|                                                22479.6|South America|     39644.009999999995|     Venezuela|                38.3|         1716441.0|     44815.691906005224|\n",
            "|       colombia|     Venezuela|    0.0|     0.0|           Software Engineer|                       ANNUAL|                                                32487.3|                                               47644.67|South America|               80131.97|     Venezuela|                38.3|         3248730.0|      84823.23759791124|\n",
            "|       colombia|     Venezuela|    0.0|     0.0|        Senior Software E...|                       ANNUAL|                                               40322.09|                                               61198.19|South America|              101520.28|     Venezuela|                38.3|4032208.9999999995|     105279.60835509138|\n",
            "|       colombia|     Venezuela|    0.0|     0.0|          Software Developer|                       ANNUAL|                                               32098.77|                                               41979.24|South America|               74078.01|     Venezuela|                38.3|         3209877.0|      83808.79895561359|\n",
            "|       colombia|     Venezuela|    0.0|     0.0|              Field Engineer|                       ANNUAL|                                               15771.91|                                               24133.52|South America|               39905.43|     Venezuela|                38.3|         1577191.0|      41179.92167101828|\n",
            "|          seoul|   South Korea|37.5664|126.9997|           Software Engineer|                       ANNUAL|                                               36284.58|                                               62410.23|         Asia|               98694.81|   South Korea|                60.1|         3628458.0|       60373.6772046589|\n",
            "|          seoul|   South Korea|37.5664|126.9997|             Account Manager|                       ANNUAL|                                               38786.02|                                               75743.22|         Asia|     114529.23999999999|   South Korea|                60.1|3878601.9999999995|     64535.806988352735|\n",
            "|          seoul|   South Korea|37.5664|126.9997|            Systems Engineer|                       ANNUAL|                                               37714.61|                                               79738.97|         Asia|              117453.58|   South Korea|                60.1|         3771461.0|      62753.09484193011|\n",
            "|          seoul|   South Korea|37.5664|126.9997|        Senior Software E...|                       ANNUAL|                                               44339.16|                                               72138.61|         Asia|              116477.77|   South Korea|                60.1|         4433916.0|      73775.64059900166|\n",
            "|          seoul|   South Korea|37.5664|126.9997|        Consulting System...|                       ANNUAL|                                               55322.72|                                               98173.18|         Asia|               153495.9|   South Korea|                60.1|         5532272.0|      92051.11480865224|\n",
            "|          paris|        France|48.8667|  2.3333|                  Consultant|                       ANNUAL|                                               45658.01|                                               60129.51|       Europe|              105787.52|        France|                63.7|         4565801.0|      71676.62480376766|\n",
            "|          paris|        France|48.8667|  2.3333|                     Analyst|                       ANNUAL|                                               32303.37|                                               38334.62|       Europe|               70637.99|        France|                63.7|         3230337.0|      50711.72684458399|\n",
            "|          paris|        France|48.8667|  2.3333|                     Manager|                       ANNUAL|                                               69583.35|                                               91187.28|       Europe|              160770.63|        France|                63.7| 6958335.000000001|     109236.02825745684|\n",
            "|          paris|        France|48.8667|  2.3333|              Senior Manager|                       ANNUAL|                                               88201.45|                                              131868.18|       Europe|              220069.63|        France|                63.7|         8820145.0|      138463.8147566719|\n",
            "|          paris|        France|48.8667|  2.3333|        Management Consul...|                       ANNUAL|                                               45795.54|                                               60812.83|       Europe|              106608.37|        France|                63.7|         4579554.0|      71892.52747252746|\n",
            "|  charing cross|United Kingdom|51.4833| -0.1167|        Recruitment Consu...|                       ANNUAL|                                               20055.56|                                               26670.15|       Europe|      46725.71000000001|United Kingdom|                62.0|2005556.0000000002|      32347.67741935484|\n",
            "|  charing cross|United Kingdom|51.4833| -0.1167|        Senior Recruitmen...|                       ANNUAL|                                               20685.88|                                               41971.34|       Europe|               62657.22|United Kingdom|                62.0|         2068588.0|      33364.32258064516|\n",
            "|  charing cross|United Kingdom|51.4833| -0.1167|         Managing Consultant|                       ANNUAL|                                               35227.34|                                               48870.38|       Europe|               84097.72|United Kingdom|                62.0|3522733.9999999995|      56818.29032258064|\n",
            "|  charing cross|United Kingdom|51.4833| -0.1167|                   Recruiter|                       ANNUAL|                                               19885.95|                                               21807.47|       Europe|               41693.42|United Kingdom|                62.0|         1988595.0|     32074.112903225807|\n",
            "|  charing cross|United Kingdom|51.4833| -0.1167|        Trainee Recruitme...|                       ANNUAL|                                               19947.39|                                               22539.47|       Europe|               42486.86|United Kingdom|                62.0|         1994739.0|     32173.209677419356|\n",
            "|          perai|      Malaysia| 5.3833|100.3833|                    Surveyor|                       ANNUAL|                                               19867.64|                                               27979.69|         Asia|               47847.33|      Malaysia|                30.0|         1986764.0|      66225.46666666666|\n",
            "|          perai|      Malaysia| 5.3833|100.3833|        Pest Control Tech...|                       ANNUAL|                                                17115.0|                                               26388.99|         Asia|     43503.990000000005|      Malaysia|                30.0|         1711500.0|                57050.0|\n",
            "|          perai|      Malaysia| 5.3833|100.3833|             Project Manager|                       ANNUAL|                                               27804.43|                                               54246.18|         Asia|               82050.61|      Malaysia|                30.0|         2780443.0|      92681.43333333333|\n",
            "|          perai|      Malaysia| 5.3833|100.3833|         Key Account Manager|                       ANNUAL|                                               25232.54|                                               31478.51|         Asia|               56711.05|      Malaysia|                30.0|         2523254.0|      84108.46666666666|\n",
            "|          perai|      Malaysia| 5.3833|100.3833|        Digital Marketing...|                       ANNUAL|                                                18887.1|                                               33841.62|         Asia|               52728.72|      Malaysia|                30.0|1888709.9999999998|      62956.99999999999|\n",
            "+---------------+--------------+-------+--------+----------------------------+-----------------------------+-------------------------------------------------------+-------------------------------------------------------+-------------+-----------------------+--------------+--------------------+------------------+-----------------------+\n",
            "only showing top 30 rows\n",
            "\n"
          ]
        }
      ]
    },
    {
      "cell_type": "markdown",
      "source": [
        "Creating a partition of 4 for our dataset and naming it ds_par."
      ],
      "metadata": {
        "id": "f7NVsZv1UQ_6"
      }
    },
    {
      "cell_type": "code",
      "source": [
        "ds_par = ds.repartition(4)"
      ],
      "metadata": {
        "id": "KiU5p7K0TKjP"
      },
      "execution_count": 9,
      "outputs": []
    },
    {
      "cell_type": "markdown",
      "source": [
        "Showing number of Partitions."
      ],
      "metadata": {
        "id": "D2EM4fLXUdI7"
      }
    },
    {
      "cell_type": "code",
      "source": [
        "num = ds_par.rdd.getNumPartitions()\n",
        "print(f\"The number of partitions : {num}\")"
      ],
      "metadata": {
        "colab": {
          "base_uri": "https://localhost:8080/"
        },
        "id": "GiO8m0GWUcOk",
        "outputId": "fa3f5c56-9fbb-4f0e-a1ec-bde030e427f1"
      },
      "execution_count": 10,
      "outputs": [
        {
          "output_type": "stream",
          "name": "stdout",
          "text": [
            "The number of partitions : 4\n"
          ]
        }
      ]
    },
    {
      "cell_type": "markdown",
      "source": [
        "Name of columns."
      ],
      "metadata": {
        "id": "_u3CkLxtVAgp"
      }
    },
    {
      "cell_type": "code",
      "source": [
        "ds_par.columns"
      ],
      "metadata": {
        "colab": {
          "base_uri": "https://localhost:8080/"
        },
        "id": "NkqmgjxKUq3z",
        "outputId": "2debdbb0-1197-40b3-f97d-f895bb2a6999"
      },
      "execution_count": 11,
      "outputs": [
        {
          "output_type": "execute_result",
          "data": {
            "text/plain": [
              "['header.location',\n",
              " 'map.country',\n",
              " 'map.lat',\n",
              " 'map.lng',\n",
              " 'salary.salaries.val.jobTitle',\n",
              " 'salary.salaries.val.payPeriod',\n",
              " 'salary.salaries.val.salaryPercentileMap.payPercentile10',\n",
              " 'salary.salaries.val.salaryPercentileMap.payPercentile90',\n",
              " 'Continent',\n",
              " 'adjusted_pay_percentile',\n",
              " 'Country',\n",
              " 'Cost of Living Index',\n",
              " 'percentile10by100',\n",
              " 'Purchasing Power Parity']"
            ]
          },
          "metadata": {},
          "execution_count": 11
        }
      ]
    },
    {
      "cell_type": "markdown",
      "source": [
        "Renaming some columns for clarity."
      ],
      "metadata": {
        "id": "bHk2hly9VTwm"
      }
    },
    {
      "cell_type": "code",
      "source": [
        "\n",
        "ds_par = ds_par.withColumnRenamed(\"salary.salaries.val.jobTitle\",\"Job Title\")\n",
        "ds_par = ds_par.withColumnRenamed(\"salary.salaries.val.salaryPercentileMap.payPercentile10\",\"Salary-Percentile-10\")\n",
        "ds_par = ds_par.withColumnRenamed(\"salary.salaries.val.salaryPercentileMap.payPercentile90\",\"Salary-Percentile-90\")\n",
        "ds_par = ds_par.withColumnRenamed(\"salary.salaries.val.payPeriod\",\"Pay Period\")"
      ],
      "metadata": {
        "id": "8obet8fnVEGu"
      },
      "execution_count": 12,
      "outputs": []
    },
    {
      "cell_type": "code",
      "source": [
        "ds_par.show(10)"
      ],
      "metadata": {
        "colab": {
          "base_uri": "https://localhost:8080/"
        },
        "id": "y4u0DYyDWYTS",
        "outputId": "8fb18cbb-07ad-4b5e-b990-816246a5e62c"
      },
      "execution_count": 13,
      "outputs": [
        {
          "output_type": "stream",
          "name": "stdout",
          "text": [
            "+---------------+--------------+--------+---------+--------------------+----------+--------------------+--------------------+-------------+-----------------------+--------------+--------------------+------------------+-----------------------+\n",
            "|header.location|   map.country| map.lat|  map.lng|           Job Title|Pay Period|Salary-Percentile-10|Salary-Percentile-90|    Continent|adjusted_pay_percentile|       Country|Cost of Living Index| percentile10by100|Purchasing Power Parity|\n",
            "+---------------+--------------+--------+---------+--------------------+----------+--------------------+--------------------+-------------+-----------------------+--------------+--------------------+------------------+-----------------------+\n",
            "|           pune|         India| 18.5042|  73.8531|Regional Sales Di...|    ANNUAL|           111909.88|           130831.55|         Asia|              242741.43|         India|                21.2|       1.1190988E7|      527876.7924528302|\n",
            "|        midrand|  South Africa|-25.9636|  28.1378|             Manager|    ANNUAL|            33217.16|            51263.14|       Africa|                84480.3|  South Africa|                34.5|3321716.0000000005|       96281.6231884058|\n",
            "|       medellín|     Venezuela|  6.2914| -75.5361|          Consultant|    ANNUAL|            33204.53|             60649.4|South America|               93853.93|     Venezuela|                38.3|         3320453.0|      86695.90078328982|\n",
            "|          sofia| United States| 42.6833|  23.3167|   Marketing Manager|    ANNUAL|            69916.38|            75735.43|North America|              145651.81| United States|                70.4|         6991638.0|      99313.03977272726|\n",
            "|         lisbon|      Portugal| 38.7167|  -9.1333|Media Project Man...|    ANNUAL|            62446.79|            68620.69|       Europe|     131067.48000000001|      Portugal|                45.1|         6244679.0|      138462.9490022173|\n",
            "|       spon end|United Kingdom|    52.4|  -1.5333|             Manager|    ANNUAL|            33688.77|            36397.57|       Europe|               70086.34|United Kingdom|                62.0|3368876.9999999995|     54336.725806451606|\n",
            "|       brisbane|     Australia|   -27.5| 153.0167|   Software Engineer|    ANNUAL|            29909.92|            54302.88|      Oceania|      84212.79999999999|     Australia|                70.2|         2990992.0|      42606.72364672364|\n",
            "|       shanghai| United States| 31.2222| 121.4581|             Manager|    HOURLY|               73.75|               79.18|North America|               287508.4| United States|                70.4|            7375.0|     104.75852272727272|\n",
            "|         taipei|        Taiwan| 25.0392|  121.525|       Brand Manager|    ANNUAL|            47461.83|            51612.28|         Asia|               99074.11|        Taiwan|                45.2|         4746183.0|     105004.04867256636|\n",
            "|      monterrey|     Venezuela| 25.6667|-100.3167|    Business Analyst|    ANNUAL|            29329.29|            31566.86|South America|               60896.15|     Venezuela|                38.3|         2932929.0|      76577.78067885118|\n",
            "+---------------+--------------+--------+---------+--------------------+----------+--------------------+--------------------+-------------+-----------------------+--------------+--------------------+------------------+-----------------------+\n",
            "only showing top 10 rows\n",
            "\n"
          ]
        }
      ]
    },
    {
      "cell_type": "markdown",
      "source": [
        "Data Types of Dataset."
      ],
      "metadata": {
        "id": "vJbKcux3i2ml"
      }
    },
    {
      "cell_type": "code",
      "source": [
        "ds_par.dtypes"
      ],
      "metadata": {
        "colab": {
          "base_uri": "https://localhost:8080/"
        },
        "id": "GSKFZCyAcWK0",
        "outputId": "c4b53999-8ce6-4101-b395-b60fd7229ec5"
      },
      "execution_count": 14,
      "outputs": [
        {
          "output_type": "execute_result",
          "data": {
            "text/plain": [
              "[('header.location', 'string'),\n",
              " ('map.country', 'string'),\n",
              " ('map.lat', 'double'),\n",
              " ('map.lng', 'double'),\n",
              " ('Job Title', 'string'),\n",
              " ('Pay Period', 'string'),\n",
              " ('Salary-Percentile-10', 'double'),\n",
              " ('Salary-Percentile-90', 'double'),\n",
              " ('Continent', 'string'),\n",
              " ('adjusted_pay_percentile', 'double'),\n",
              " ('Country', 'string'),\n",
              " ('Cost of Living Index', 'double'),\n",
              " ('percentile10by100', 'double'),\n",
              " ('Purchasing Power Parity', 'double')]"
            ]
          },
          "metadata": {},
          "execution_count": 14
        }
      ]
    },
    {
      "cell_type": "code",
      "source": [
        "from pyspark.sql.functions import col, when"
      ],
      "metadata": {
        "id": "KUKi3R4obyJ6"
      },
      "execution_count": 15,
      "outputs": []
    },
    {
      "cell_type": "markdown",
      "source": [
        "Making Annual Salary columns titled ***Annual-Salary-Percentile-10*** and ***Annual-Salary-Percentile-90*** from ***Salary-Percentile-10*** and ***Salary-Percentile-90***.<br>\n",
        "For monthly salary 12 has been multiplied and for hourly, we assumed 52 weeks and 40 hours per week working period and multiplied accordingly."
      ],
      "metadata": {
        "id": "xjKXIy_Si6yo"
      }
    },
    {
      "cell_type": "code",
      "source": [
        "ds_par_s = ds_par.withColumn(\n",
        "    \"Annual-Salary-Percentile-10\",\n",
        "    when(col(\"Pay Period\") == \"MONTHLY\", col(\"Salary-Percentile-10\") * 12)\n",
        "    .when(col(\"Pay Period\") == \"HOURLY\", col(\"Salary-Percentile-10\") * 52 * 40)\n",
        "    .otherwise(col(\"Salary-Percentile-10\")) )\n",
        "\n",
        "ds_par_s = ds_par_s.withColumn(\n",
        "    \"Annual-Salary-Percentile-90\",\n",
        "    when(col(\"Pay Period\") == \"MONTHLY\", col(\"Salary-Percentile-90\") * 12)\n",
        "    .when(col(\"Pay Period\") == \"HOURLY\", col(\"Salary-Percentile-90\") * 52 * 40)\n",
        "    .otherwise(col(\"Salary-Percentile-90\")) )\n"
      ],
      "metadata": {
        "id": "PiwSVQUnWc0B"
      },
      "execution_count": 16,
      "outputs": []
    },
    {
      "cell_type": "markdown",
      "source": [
        "Transformed new columns."
      ],
      "metadata": {
        "id": "dUCRtq9Xj4k8"
      }
    },
    {
      "cell_type": "code",
      "source": [
        "ds_par_s.select(\"Annual-Salary-Percentile-10\", \"Annual-Salary-Percentile-90\", \"Pay Period\").show()"
      ],
      "metadata": {
        "colab": {
          "base_uri": "https://localhost:8080/"
        },
        "id": "I08Y9eCib95s",
        "outputId": "1a72d3d3-774a-475d-a484-3c8e31a0b119"
      },
      "execution_count": 17,
      "outputs": [
        {
          "output_type": "stream",
          "name": "stdout",
          "text": [
            "+---------------------------+---------------------------+----------+\n",
            "|Annual-Salary-Percentile-10|Annual-Salary-Percentile-90|Pay Period|\n",
            "+---------------------------+---------------------------+----------+\n",
            "|                   83240.03|                   90787.02|    ANNUAL|\n",
            "|                   28093.74|                   30068.25|    ANNUAL|\n",
            "|                   28089.87|                   30465.82|    ANNUAL|\n",
            "|                   14992.66|                   17373.25|    ANNUAL|\n",
            "|                    41725.4|                    45138.7|    ANNUAL|\n",
            "|                  104553.18|                  114050.72|    ANNUAL|\n",
            "|                  104553.18|                  114050.72|    ANNUAL|\n",
            "|                   62146.75|                   67218.61|    ANNUAL|\n",
            "|                    69099.5|                   75552.62|    ANNUAL|\n",
            "|                   15913.16|                   18764.68|    ANNUAL|\n",
            "|                   39376.95|                   61851.01|    ANNUAL|\n",
            "|                   78050.63|                   83679.98|    ANNUAL|\n",
            "|                   15257.71|                   19050.73|    ANNUAL|\n",
            "|                   24528.31|                    26796.1|    ANNUAL|\n",
            "|                  124571.79|                  134733.19|    ANNUAL|\n",
            "|                   22144.94|                   24115.87|    ANNUAL|\n",
            "|                    37648.0|         40684.799999999996|    HOURLY|\n",
            "|                   15761.08|                   17352.46|    ANNUAL|\n",
            "|                   30055.91|                   60585.49|    ANNUAL|\n",
            "|                   30237.64|                   52426.44|    ANNUAL|\n",
            "+---------------------------+---------------------------+----------+\n",
            "only showing top 20 rows\n",
            "\n"
          ]
        }
      ]
    },
    {
      "cell_type": "markdown",
      "source": [
        "Creating a new column titled ***Mean-Annual-Salary*** from ***Annual-Salary-Percentile-10*** and ***Annual-Salary-Percentile-90*** by weighting them."
      ],
      "metadata": {
        "id": "Sm71-gGrpDow"
      }
    },
    {
      "cell_type": "code",
      "source": [
        "ds_par_ms = ds_par_s.withColumn(\n",
        "    \"Mean-Annual-Salary\",\n",
        "    (col(\"Annual-Salary-Percentile-10\") * 0.1 + col(\"Annual-Salary-Percentile-90\") * 0.9) )"
      ],
      "metadata": {
        "id": "NBtLwb4Hcg78"
      },
      "execution_count": 18,
      "outputs": []
    },
    {
      "cell_type": "code",
      "source": [
        "ds_par_ms.show()"
      ],
      "metadata": {
        "colab": {
          "base_uri": "https://localhost:8080/"
        },
        "id": "8iwOpHSYia4J",
        "outputId": "6f38141b-6b3f-4560-c765-3cbe20ca9169"
      },
      "execution_count": 19,
      "outputs": [
        {
          "output_type": "stream",
          "name": "stdout",
          "text": [
            "+-------------------+--------------+--------+---------+--------------------+----------+--------------------+--------------------+-------------+-----------------------+--------------+--------------------+------------------+-----------------------+---------------------------+---------------------------+------------------+\n",
            "|    header.location|   map.country| map.lat|  map.lng|           Job Title|Pay Period|Salary-Percentile-10|Salary-Percentile-90|    Continent|adjusted_pay_percentile|       Country|Cost of Living Index| percentile10by100|Purchasing Power Parity|Annual-Salary-Percentile-10|Annual-Salary-Percentile-90|Mean-Annual-Salary|\n",
            "+-------------------+--------------+--------+---------+--------------------+----------+--------------------+--------------------+-------------+-----------------------+--------------+--------------------+------------------+-----------------------+---------------------------+---------------------------+------------------+\n",
            "|               pune|         India| 18.5042|  73.8531|Regional Sales Di...|    ANNUAL|           111909.88|           130831.55|         Asia|              242741.43|         India|                21.2|       1.1190988E7|      527876.7924528302|                  111909.88|                  130831.55|        128939.383|\n",
            "|            midrand|  South Africa|-25.9636|  28.1378|             Manager|    ANNUAL|            33217.16|            51263.14|       Africa|                84480.3|  South Africa|                34.5|3321716.0000000005|       96281.6231884058|                   33217.16|                   51263.14|         49458.542|\n",
            "|           medellín|     Venezuela|  6.2914| -75.5361|          Consultant|    ANNUAL|            33204.53|             60649.4|South America|               93853.93|     Venezuela|                38.3|         3320453.0|      86695.90078328982|                   33204.53|                    60649.4|         57904.913|\n",
            "|              sofia| United States| 42.6833|  23.3167|   Marketing Manager|    ANNUAL|            69916.38|            75735.43|North America|              145651.81| United States|                70.4|         6991638.0|      99313.03977272726|                   69916.38|                   75735.43| 75153.52500000001|\n",
            "|             lisbon|      Portugal| 38.7167|  -9.1333|Media Project Man...|    ANNUAL|            62446.79|            68620.69|       Europe|     131067.48000000001|      Portugal|                45.1|         6244679.0|      138462.9490022173|                   62446.79|                   68620.69|           68003.3|\n",
            "|           spon end|United Kingdom|    52.4|  -1.5333|             Manager|    ANNUAL|            33688.77|            36397.57|       Europe|               70086.34|United Kingdom|                62.0|3368876.9999999995|     54336.725806451606|                   33688.77|                   36397.57|          36126.69|\n",
            "|           brisbane|     Australia|   -27.5| 153.0167|   Software Engineer|    ANNUAL|            29909.92|            54302.88|      Oceania|      84212.79999999999|     Australia|                70.2|         2990992.0|      42606.72364672364|                   29909.92|                   54302.88|51863.583999999995|\n",
            "|           shanghai| United States| 31.2222| 121.4581|             Manager|    HOURLY|               73.75|               79.18|North America|               287508.4| United States|                70.4|            7375.0|     104.75852272727272|                   153400.0|         164694.40000000002|163564.96000000002|\n",
            "|             taipei|        Taiwan| 25.0392|  121.525|       Brand Manager|    ANNUAL|            47461.83|            51612.28|         Asia|               99074.11|        Taiwan|                45.2|         4746183.0|     105004.04867256636|                   47461.83|                   51612.28|         51197.235|\n",
            "|          monterrey|     Venezuela| 25.6667|-100.3167|    Business Analyst|    ANNUAL|            29329.29|            31566.86|South America|               60896.15|     Venezuela|                38.3|         2932929.0|      76577.78067885118|                   29329.29|                   31566.86|31343.103000000003|\n",
            "|vélizy-villacoublay|        France|    48.8|   2.1833|Customer Service ...|    ANNUAL|            18056.83|            19454.63|       Europe|      37511.46000000001|        France|                63.7|1805683.0000000002|     28346.671899529043|                   18056.83|                   19454.63|19314.850000000002|\n",
            "|              japan|         Japan|     0.0|      0.0|         KYC Analyst|    ANNUAL|            43034.44|            46744.97|         Asia|               89779.41|         Japan|                46.1|         4303444.0|      93350.19522776573|                   43034.44|                   46744.97| 46373.91700000001|\n",
            "|             london|United Kingdom|    51.5|  -0.1167|Administrative As...|    ANNUAL|            16776.15|            18122.02|       Europe|               34898.17|United Kingdom|                62.0|1677615.0000000002|     27058.306451612905|                   16776.15|                   18122.02|         17987.433|\n",
            "|              sofia| United States| 42.6833|  23.3167|Retail Sales Asso...|    ANNUAL|            36487.98|            39838.44|North America|      76326.42000000001| United States|                70.4|3648798.0000000005|      51829.51704545455|                   36487.98|                   39838.44| 39503.39400000001|\n",
            "|          barcelona|         Spain| 41.3994|    2.128|  IT Project Manager|    ANNUAL|            38086.46|            78036.53|       Europe|     116122.98999999999|         Spain|                47.3|         3808646.0|      80521.05708245243|                   38086.46|                   78036.53|         74041.523|\n",
            "|             taguig|   Philippines| 14.5267| 121.0747|Functional Consul...|    ANNUAL|            47993.57|            56135.62|         Asia|              104129.19|   Philippines|                31.0|         4799357.0|     154817.96774193548|                   47993.57|                   56135.62| 55321.41500000001|\n",
            "|             london|  South Africa|    51.5|  -0.1167|   Senior Consultant|    ANNUAL|            35230.22|            37868.54|       Africa|      73098.76000000001|  South Africa|                34.5|         3523022.0|     102116.57971014493|                   35230.22|                   37868.54|         37604.708|\n",
            "|            limburg|  South Africa|     0.0|      0.0|   Territory Manager|    ANNUAL|            40789.05|            50843.09|       Africa|               91632.14|  South Africa|                34.5|4078905.0000000005|     118229.13043478262|                   40789.05|                   50843.09|49837.685999999994|\n",
            "|           shanghai|         China| 31.2222| 121.4581|         KYC Analyst|    ANNUAL|            43835.37|            47223.26|         Asia|               91058.63|         China|                31.7|         4383537.0|     138281.92429022084|                   43835.37|                   47223.26|46884.471000000005|\n",
            "|           santiago|     Venezuela|  -33.45| -70.6667|     Account Manager|    ANNUAL|           104279.39|            111683.6|South America|              215962.99|     Venezuela|                38.3|       1.0427939E7|     272269.94778067886|                  104279.39|                   111683.6|        110943.179|\n",
            "+-------------------+--------------+--------+---------+--------------------+----------+--------------------+--------------------+-------------+-----------------------+--------------+--------------------+------------------+-----------------------+---------------------------+---------------------------+------------------+\n",
            "only showing top 20 rows\n",
            "\n"
          ]
        }
      ]
    },
    {
      "cell_type": "markdown",
      "source": [
        "Saving the dataset with file name **Dataset with Mean Salary** to Google Drive"
      ],
      "metadata": {
        "id": "pM0HI5zCqGSq"
      }
    },
    {
      "cell_type": "code",
      "source": [
        "ds_par_ms.write.csv(\"/content/drive/MyDrive/Cloud Technologies/Notebooks/Transformed Datasets/Dataset with Mean Salary\", mode=\"overwrite\", header=True)\n"
      ],
      "metadata": {
        "id": "Pq9wCG5ripUQ"
      },
      "execution_count": 22,
      "outputs": []
    },
    {
      "cell_type": "code",
      "source": [
        "ds_par_ms.columns"
      ],
      "metadata": {
        "colab": {
          "base_uri": "https://localhost:8080/"
        },
        "id": "Q0GMEtjCmnOp",
        "outputId": "7b0579cd-7338-4ca0-b9d6-1c6d0c3eb358"
      },
      "execution_count": 23,
      "outputs": [
        {
          "output_type": "execute_result",
          "data": {
            "text/plain": [
              "['header.location',\n",
              " 'map.country',\n",
              " 'map.lat',\n",
              " 'map.lng',\n",
              " 'Job Title',\n",
              " 'Pay Period',\n",
              " 'Salary-Percentile-10',\n",
              " 'Salary-Percentile-90',\n",
              " 'Continent',\n",
              " 'adjusted_pay_percentile',\n",
              " 'Country',\n",
              " 'Cost of Living Index',\n",
              " 'percentile10by100',\n",
              " 'Purchasing Power Parity',\n",
              " 'Annual-Salary-Percentile-10',\n",
              " 'Annual-Salary-Percentile-90',\n",
              " 'Mean-Annual-Salary']"
            ]
          },
          "metadata": {},
          "execution_count": 23
        }
      ]
    },
    {
      "cell_type": "markdown",
      "source": [
        "Choosing necessary columns and makin a new dataset titled, ***ds_par_ms_s***."
      ],
      "metadata": {
        "id": "wJuuRh1arM0I"
      }
    },
    {
      "cell_type": "code",
      "source": [
        "ds_par_ms_s = ds_par_ms.select(\"Job Title\",\"Cost of Living Index\", \"Mean-Annual-Salary\", \"Country\", \"Continent\")"
      ],
      "metadata": {
        "id": "yhrkd5HHrvlw"
      },
      "execution_count": 24,
      "outputs": []
    },
    {
      "cell_type": "code",
      "source": [
        "ds_par_ms_s.show()"
      ],
      "metadata": {
        "colab": {
          "base_uri": "https://localhost:8080/"
        },
        "id": "bwlUy_CUvX0G",
        "outputId": "b8044c83-beca-4cd7-f1b2-c71ddcd945bd"
      },
      "execution_count": 25,
      "outputs": [
        {
          "output_type": "stream",
          "name": "stdout",
          "text": [
            "+--------------------+--------------------+------------------+-------------+-------------+\n",
            "|           Job Title|Cost of Living Index|Mean-Annual-Salary|      Country|    Continent|\n",
            "+--------------------+--------------------+------------------+-------------+-------------+\n",
            "|               C O O|                56.2|232716.11200000002|        Italy|       Europe|\n",
            "|Senior Software E...|                47.3|         77999.141|        Spain|       Europe|\n",
            "|Senior Software E...|                47.3|         77999.141|        Spain|       Europe|\n",
            "|Senior Software E...|                47.3|         77999.141|        Spain|       Europe|\n",
            "|          Consultant|                31.7|61709.539000000004|        China|         Asia|\n",
            "|          Consultant|                31.7|61709.539000000004|        China|         Asia|\n",
            "|          Consultant|                31.7|61709.539000000004|        China|         Asia|\n",
            "|          Consultant|                31.7|61709.539000000004|        China|         Asia|\n",
            "|   Software Engineer|                21.2|         78109.652|        India|         Asia|\n",
            "|Senior Software E...|                70.2|55576.382000000005|    Australia|      Oceania|\n",
            "|       Lead Engineer|                21.2|57258.888000000006|        India|         Asia|\n",
            "|       Sales Manager|                37.2|57598.920000000006|     Zimbabwe|       Africa|\n",
            "|  Analyst Consultant|                30.0|         30668.432|     Malaysia|         Asia|\n",
            "|Geotechnical Engi...|                70.2|28004.836000000003|    Australia|      Oceania|\n",
            "|              Intern|                37.4|20145.208000000002|       Turkey|         Asia|\n",
            "|Market Research A...|                62.2|17326.737999999998|      Germany|       Europe|\n",
            "|          Ambassador|                70.4|46753.655999999995|United States|North America|\n",
            "|              Expert|                40.2|         26284.113|       Mexico|North America|\n",
            "|              Expert|                40.2|         26284.113|       Mexico|North America|\n",
            "|              Expert|                40.2|         26284.113|       Mexico|North America|\n",
            "+--------------------+--------------------+------------------+-------------+-------------+\n",
            "only showing top 20 rows\n",
            "\n"
          ]
        }
      ]
    },
    {
      "cell_type": "markdown",
      "source": [
        "Saving the dataset with file name **Dataset with Chosen Columns** to Google Drive"
      ],
      "metadata": {
        "id": "xhJFpaKTwXI8"
      }
    },
    {
      "cell_type": "code",
      "source": [
        "ds_par_ms_s.write.csv(\"/content/drive/MyDrive/Cloud Technologies/Notebooks/Transformed Datasets/Dataset with Chosen Columns\",mode=\"overwrite\", header=True)\n"
      ],
      "metadata": {
        "id": "uMSPGwObvZ4D"
      },
      "execution_count": 28,
      "outputs": []
    },
    {
      "cell_type": "markdown",
      "source": [
        "The dataset ***ds_par_ms_s*** is sorted into dataset ***ds_par_ms_sli*** based on **Cost of Living Index**"
      ],
      "metadata": {
        "id": "COGHEkJNxikk"
      }
    },
    {
      "cell_type": "code",
      "source": [
        "ds_par_ms_sli = ds_par_ms_s.sort(\"Cost of Living Index\")"
      ],
      "metadata": {
        "id": "_fCHdrAxx1oo"
      },
      "execution_count": 29,
      "outputs": []
    },
    {
      "cell_type": "code",
      "source": [
        "ds_par_ms_sli.show()"
      ],
      "metadata": {
        "colab": {
          "base_uri": "https://localhost:8080/"
        },
        "id": "PSPHEqkUx98t",
        "outputId": "04a37b3f-3f18-404f-a708-e13dc68712f7"
      },
      "execution_count": 30,
      "outputs": [
        {
          "output_type": "stream",
          "name": "stdout",
          "text": [
            "+--------------------+--------------------+------------------+--------+---------+\n",
            "|           Job Title|Cost of Living Index|Mean-Annual-Salary| Country|Continent|\n",
            "+--------------------+--------------------+------------------+--------+---------+\n",
            "|          Researcher|                18.8|30670.244000000002|Pakistan|     Asia|\n",
            "|Vice President Ja...|                18.8|          102665.5|Pakistan|     Asia|\n",
            "|     Project Manager|                18.8| 69043.80200000001|Pakistan|     Asia|\n",
            "|                  BA|                18.8|         44364.317|Pakistan|     Asia|\n",
            "|   Senior Consultant|                18.8| 77690.06199999999|Pakistan|     Asia|\n",
            "| Structural Engineer|                18.8|35669.579000000005|Pakistan|     Asia|\n",
            "|            Director|                18.8|129215.41600000001|Pakistan|     Asia|\n",
            "|People Operations...|                18.8|47609.494000000006|Pakistan|     Asia|\n",
            "|              Intern|                18.8|         20408.896|Pakistan|     Asia|\n",
            "|      Senior Manager|                18.8|        101962.402|Pakistan|     Asia|\n",
            "|     Account Manager|                18.8|44969.062000000005|Pakistan|     Asia|\n",
            "|      Change Manager|                18.8|         90050.474|Pakistan|     Asia|\n",
            "|            Director|                18.8|129215.41600000001|Pakistan|     Asia|\n",
            "|Customer Support ...|                18.8|         16271.436|Pakistan|     Asia|\n",
            "|Senior Staff Engi...|                18.8| 83978.88300000002|Pakistan|     Asia|\n",
            "| IT Support Engineer|                18.8|         27325.404|Pakistan|     Asia|\n",
            "|  Development Editor|                18.8|         33715.345|Pakistan|     Asia|\n",
            "|  Operations Manager|                18.8|         60903.423|Pakistan|     Asia|\n",
            "|    Support Function|                18.8|40883.899000000005|Pakistan|     Asia|\n",
            "|Inside Sales Repr...|                18.8|         22045.089|Pakistan|     Asia|\n",
            "+--------------------+--------------------+------------------+--------+---------+\n",
            "only showing top 20 rows\n",
            "\n"
          ]
        }
      ]
    },
    {
      "cell_type": "markdown",
      "source": [
        "Saving the sorted dataset with file name **Dataset with Chosen Columns Sorted by Cost of Living Index** to Google Drive"
      ],
      "metadata": {
        "id": "JRWHiDuwyvSl"
      }
    },
    {
      "cell_type": "code",
      "source": [
        "ds_par_ms_sli.write.csv(\"/content/drive/MyDrive/Cloud Technologies/Notebooks/Transformed Datasets/Dataset with Chosen Columns Sorted by Cost of Living Index\", mode=\"overwrite\", header=True)\n"
      ],
      "metadata": {
        "id": "TlyOXc46x_UQ"
      },
      "execution_count": 31,
      "outputs": []
    },
    {
      "cell_type": "code",
      "source": [
        "ds_par_ms_sli.show()"
      ],
      "metadata": {
        "colab": {
          "base_uri": "https://localhost:8080/"
        },
        "id": "gV8Fqyhs5TQx",
        "outputId": "b1cbdc7d-f75c-4dfc-89cf-51927e98e15c"
      },
      "execution_count": 32,
      "outputs": [
        {
          "output_type": "stream",
          "name": "stdout",
          "text": [
            "+--------------------+--------------------+------------------+--------+---------+\n",
            "|           Job Title|Cost of Living Index|Mean-Annual-Salary| Country|Continent|\n",
            "+--------------------+--------------------+------------------+--------+---------+\n",
            "|          Researcher|                18.8|30670.244000000002|Pakistan|     Asia|\n",
            "|     Project Manager|                18.8| 69043.80200000001|Pakistan|     Asia|\n",
            "|Vice President Ja...|                18.8|          102665.5|Pakistan|     Asia|\n",
            "|            Director|                18.8|129215.41600000001|Pakistan|     Asia|\n",
            "|   Senior Consultant|                18.8| 77690.06199999999|Pakistan|     Asia|\n",
            "|     Account Manager|                18.8|44969.062000000005|Pakistan|     Asia|\n",
            "|                  BA|                18.8|         44364.317|Pakistan|     Asia|\n",
            "|Senior Staff Engi...|                18.8| 83978.88300000002|Pakistan|     Asia|\n",
            "|              Intern|                18.8|         20408.896|Pakistan|     Asia|\n",
            "|    Support Function|                18.8|40883.899000000005|Pakistan|     Asia|\n",
            "| Structural Engineer|                18.8|35669.579000000005|Pakistan|     Asia|\n",
            "|     Graduate Scheme|                18.8|31277.859000000004|Pakistan|     Asia|\n",
            "|            Director|                18.8|129215.41600000001|Pakistan|     Asia|\n",
            "|  Associate Director|                18.8| 80344.51000000001|Pakistan|     Asia|\n",
            "|People Operations...|                18.8|47609.494000000006|Pakistan|     Asia|\n",
            "|         Uber Driver|                18.8|29560.960000000003|Pakistan|     Asia|\n",
            "|  Development Editor|                18.8|         33715.345|Pakistan|     Asia|\n",
            "|  Associate Director|                18.8| 80344.51000000001|Pakistan|     Asia|\n",
            "|      Senior Manager|                18.8|        101962.402|Pakistan|     Asia|\n",
            "|      Senior Manager|                18.8|        137663.454|Pakistan|     Asia|\n",
            "+--------------------+--------------------+------------------+--------+---------+\n",
            "only showing top 20 rows\n",
            "\n"
          ]
        }
      ]
    },
    {
      "cell_type": "markdown",
      "source": [
        "Number of Distinct Jobs."
      ],
      "metadata": {
        "id": "PnrwmdLiOrqB"
      }
    },
    {
      "cell_type": "code",
      "source": [
        "ds_par_ms_sli.select(\"Job Title\").distinct().count()"
      ],
      "metadata": {
        "colab": {
          "base_uri": "https://localhost:8080/"
        },
        "id": "3GNRUKj_8l_C",
        "outputId": "492d37d9-eb64-40a5-c961-d0a4b939d63d"
      },
      "execution_count": 38,
      "outputs": [
        {
          "output_type": "execute_result",
          "data": {
            "text/plain": [
              "4040"
            ]
          },
          "metadata": {},
          "execution_count": 38
        }
      ]
    },
    {
      "cell_type": "code",
      "source": [
        "from pyspark.sql.functions import col, avg, round"
      ],
      "metadata": {
        "id": "fdJVKkuYLLnB"
      },
      "execution_count": 50,
      "outputs": []
    },
    {
      "cell_type": "markdown",
      "source": [
        "Aggregated grouping of columns titled ***Mean-Annual-Salary*** and ***Cost of Living Index*** by ***Country*** and creating 2 new columns ***Average-Mean-Annual-Salary*** and ***Average-Cost-of-Living-Index*** by getting the average of the values."
      ],
      "metadata": {
        "id": "uw2tUAk6OveV"
      }
    },
    {
      "cell_type": "code",
      "source": [
        "grouped_ds = ds_par_ms_sli.groupBy(\"Country\").agg( avg(\"Mean-Annual-Salary\").alias(\"Average-Mean-Annual-Salary\"),\n",
        "                                                            avg(\"Cost of Living Index\").alias(\"Average-Cost-of-Living-Index\") )"
      ],
      "metadata": {
        "id": "QbHoVuYiJYH9"
      },
      "execution_count": 43,
      "outputs": []
    },
    {
      "cell_type": "markdown",
      "source": [
        "Creating a new Dataset named ***selected_columns_ds*** to get necessary columns named ***Country***, ***Average-Cost-of-Living-Index***, ***Average-Mean-Annual-Salary***"
      ],
      "metadata": {
        "id": "7Z2zUhfbPdxA"
      }
    },
    {
      "cell_type": "code",
      "source": [
        "selected_columns_ds = grouped_ds.select(\"Country\",\"Average-Cost-of-Living-Index\", \"Average-Mean-Annual-Salary\")"
      ],
      "metadata": {
        "id": "ObXf_iR5LOla"
      },
      "execution_count": 44,
      "outputs": []
    },
    {
      "cell_type": "code",
      "source": [
        "selected_columns_ds.show()"
      ],
      "metadata": {
        "colab": {
          "base_uri": "https://localhost:8080/"
        },
        "id": "MMN0M53tNop5",
        "outputId": "e396c8d4-ef23-4994-e6b1-5a83c0f1a081"
      },
      "execution_count": 45,
      "outputs": [
        {
          "output_type": "stream",
          "name": "stdout",
          "text": [
            "+-----------+----------------------------+--------------------------+\n",
            "|    Country|Average-Cost-of-Living-Index|Average-Mean-Annual-Salary|\n",
            "+-----------+----------------------------+--------------------------+\n",
            "|   Paraguay|           25.39999999999999|         71789.41638461538|\n",
            "|     Russia|                        31.0|          62786.3655708634|\n",
            "|     Sweden|           59.29999999999673|         48254.74863616265|\n",
            "|Philippines|                        31.0|           62378.540150743|\n",
            "|   Malaysia|                        30.0|         66344.16228088799|\n",
            "|  Singapore|           76.70000000000272|         69147.49893933609|\n",
            "|     Turkey|           37.40000000000094|          57048.2983264177|\n",
            "|       Iraq|           29.29999999999998|        55466.930485714285|\n",
            "|    Germany|           62.20000000000318|        56629.849198359116|\n",
            "|   Cambodia|           37.30000000000006|          56366.5553814433|\n",
            "|     Jordan|          41.200000000000024|         57534.00967857143|\n",
            "|     France|           63.70000000000663|         52602.49242999492|\n",
            "|     Greece|                        52.0|          53419.8377882736|\n",
            "|  Sri Lanka|           34.59999999999999|         50432.30188970594|\n",
            "|     Taiwan|          45.200000000001886|         64417.14868608666|\n",
            "|    Algeria|          28.900000000000063|        39673.097712230236|\n",
            "|   Slovakia|          46.699999999999406|         56819.10531497584|\n",
            "|  Argentina|          29.399999999999757|         67185.66902839755|\n",
            "|    Belgium|          61.100000000001586|         55863.41089042689|\n",
            "|    Ecuador|           32.60000000000001|         88966.81920000001|\n",
            "+-----------+----------------------------+--------------------------+\n",
            "only showing top 20 rows\n",
            "\n"
          ]
        }
      ]
    },
    {
      "cell_type": "markdown",
      "source": [
        "Sorting the ***slected_columns_ds*** by Cost of Living Index and making a new Dataset called ***mean_salary_by_country_sorted_by_col*** .<br>\n",
        "This dataset will later be used for visualization.\n"
      ],
      "metadata": {
        "id": "MPguAkdoQSne"
      }
    },
    {
      "cell_type": "code",
      "source": [
        "mean_salary_by_country_sorted_by_col = selected_columns_ds.sort(\"Average-Cost-of-Living-Index\")"
      ],
      "metadata": {
        "id": "HNwi0n2YNqle"
      },
      "execution_count": 46,
      "outputs": []
    },
    {
      "cell_type": "code",
      "source": [
        "mean_salary_by_country_sorted_by_col.show()"
      ],
      "metadata": {
        "colab": {
          "base_uri": "https://localhost:8080/"
        },
        "id": "UhOlme9rOTPM",
        "outputId": "37cdab6b-99e8-4f06-e5b9-af901d36fe0f"
      },
      "execution_count": 47,
      "outputs": [
        {
          "output_type": "stream",
          "name": "stdout",
          "text": [
            "+----------+----------------------------+--------------------------+\n",
            "|   Country|Average-Cost-of-Living-Index|Average-Mean-Annual-Salary|\n",
            "+----------+----------------------------+--------------------------+\n",
            "|  Pakistan|          18.799999999999596|         59269.39323615916|\n",
            "|     Egypt|                        21.0|         82591.17056097578|\n",
            "|     India|          21.200000000003097|         66207.91570797206|\n",
            "|Bangladesh|                        22.5|         40081.14888405797|\n",
            "|  Tanzania|          23.800000000000107|         53148.07243678155|\n",
            "|     Syria|                        24.0|         45393.45591726622|\n",
            "|  Paraguay|           25.39999999999999|         71789.41638461538|\n",
            "|     Nepal|                        25.5|        28775.269160000003|\n",
            "|   Ukraine|          25.900000000000965|         57452.10452765188|\n",
            "|   Belarus|          26.399999999999988|              71970.035375|\n",
            "|      Iran|          26.400000000000052|         61919.57839423076|\n",
            "|Uzbekistan|          26.400000000000713|         58235.52417959473|\n",
            "| Indonesia|           26.69999999999945|         61334.61486700337|\n",
            "|Kyrgyzstan|          27.599999999999945|        56935.531905982876|\n",
            "|   Tunisia|           28.09999999999997|         48426.44656923078|\n",
            "|   Vietnam|          28.699999999999307|         51521.25571509649|\n",
            "|  Colombia|           28.79999999999954|         66484.35986798674|\n",
            "|   Algeria|          28.900000000000063|        39673.097712230236|\n",
            "|    Uganda|          29.099999999999994|        53511.127955555545|\n",
            "|      Iraq|           29.29999999999998|        55466.930485714285|\n",
            "+----------+----------------------------+--------------------------+\n",
            "only showing top 20 rows\n",
            "\n"
          ]
        }
      ]
    },
    {
      "cell_type": "markdown",
      "source": [
        "Rounding Average-Cost-of-Living-Index to 2 decimals."
      ],
      "metadata": {
        "id": "VqWzWeSHSN52"
      }
    },
    {
      "cell_type": "code",
      "source": [
        "mean_salary_by_country_sorted_by_col = mean_salary_by_country_sorted_by_col.withColumn( \"Average-Cost-of-Living-Index\", round(col(\"Average-Cost-of-Living-Index\"), 2) )"
      ],
      "metadata": {
        "id": "0H5vSYWKOcEz"
      },
      "execution_count": 51,
      "outputs": []
    },
    {
      "cell_type": "markdown",
      "source": [
        "Rounding Average-Mean-Annual-Salary to 2 decimals."
      ],
      "metadata": {
        "id": "3iGRBRN-SmxV"
      }
    },
    {
      "cell_type": "code",
      "source": [
        "mean_salary_by_country_sorted_by_col = mean_salary_by_country_sorted_by_col.withColumn( \"Average-Mean-Annual-Salary\", round(col(\"Average-Mean-Annual-Salary\"), 2) )"
      ],
      "metadata": {
        "id": "MtjqEzJ6SdQv"
      },
      "execution_count": 53,
      "outputs": []
    },
    {
      "cell_type": "code",
      "source": [
        "mean_salary_by_country_sorted_by_col.show()"
      ],
      "metadata": {
        "colab": {
          "base_uri": "https://localhost:8080/"
        },
        "id": "tRpml_jESFKT",
        "outputId": "9b4d4095-945a-4f8c-d271-b4ecbf8c0ca8"
      },
      "execution_count": 54,
      "outputs": [
        {
          "output_type": "stream",
          "name": "stdout",
          "text": [
            "+----------+----------------------------+--------------------------+\n",
            "|   Country|Average-Cost-of-Living-Index|Average-Mean-Annual-Salary|\n",
            "+----------+----------------------------+--------------------------+\n",
            "|  Pakistan|                        18.8|                  59269.39|\n",
            "|     Egypt|                        21.0|                  82591.17|\n",
            "|     India|                        21.2|                  66207.92|\n",
            "|Bangladesh|                        22.5|                  40081.15|\n",
            "|  Tanzania|                        23.8|                  53148.07|\n",
            "|     Syria|                        24.0|                  45393.46|\n",
            "|  Paraguay|                        25.4|                  71789.42|\n",
            "|     Nepal|                        25.5|                  28775.27|\n",
            "|   Ukraine|                        25.9|                   57452.1|\n",
            "|   Belarus|                        26.4|                  71970.04|\n",
            "|      Iran|                        26.4|                  61919.58|\n",
            "|Uzbekistan|                        26.4|                  58235.52|\n",
            "| Indonesia|                        26.7|                  61334.61|\n",
            "|Kyrgyzstan|                        27.6|                  56935.53|\n",
            "|   Tunisia|                        28.1|                  48426.45|\n",
            "|   Vietnam|                        28.7|                  51521.26|\n",
            "|  Colombia|                        28.8|                  66484.36|\n",
            "|   Algeria|                        28.9|                   39673.1|\n",
            "|    Uganda|                        29.1|                  53511.13|\n",
            "|      Iraq|                        29.3|                  55466.93|\n",
            "+----------+----------------------------+--------------------------+\n",
            "only showing top 20 rows\n",
            "\n"
          ]
        }
      ]
    },
    {
      "cell_type": "markdown",
      "source": [
        "Number of Partitions"
      ],
      "metadata": {
        "id": "X_lz1ExLTfFt"
      }
    },
    {
      "cell_type": "code",
      "source": [
        "mean_salary_by_country_sorted_by_col.rdd.getNumPartitions()"
      ],
      "metadata": {
        "colab": {
          "base_uri": "https://localhost:8080/"
        },
        "id": "ga94J1o5TaIa",
        "outputId": "4ccc8ea8-d1b9-4e65-cae6-440f36ffdcfb"
      },
      "execution_count": 55,
      "outputs": [
        {
          "output_type": "execute_result",
          "data": {
            "text/plain": [
              "1"
            ]
          },
          "metadata": {},
          "execution_count": 55
        }
      ]
    },
    {
      "cell_type": "markdown",
      "source": [
        "Saving the sorted dataset with file name **Dataset with Average Mean Annual Salary and Cost of Living Index Grouped by Country** to Google Drive"
      ],
      "metadata": {
        "id": "6SLW0Sh0Th91"
      }
    },
    {
      "cell_type": "code",
      "source": [
        "mean_salary_by_country_sorted_by_col.write.csv(\"/content/drive/MyDrive/Cloud Technologies/Notebooks/Transformed Datasets/Dataset with Average Mean Annual Salary and Cost of Living Index Grouped by Country\", mode=\"overwrite\", header=True)\n"
      ],
      "metadata": {
        "id": "IQy5eVn7S6fE"
      },
      "execution_count": 56,
      "outputs": []
    },
    {
      "cell_type": "markdown",
      "source": [
        "Exploratory Graph in the form of Scattered Plot."
      ],
      "metadata": {
        "id": "xGJ01Go1VXqx"
      }
    },
    {
      "cell_type": "code",
      "source": [
        "import pandas as pd\n",
        "import plotly.express as px\n",
        "\n",
        "# Converting spark dataset to pandas dataframe\n",
        "pandas_df = mean_salary_by_country_sorted_by_col.toPandas()\n",
        "\n",
        "# Interactive Scatter Plot\n",
        "fig = px.scatter(\n",
        "                pandas_df,\n",
        "                x=\"Average-Mean-Annual-Salary\",\n",
        "                y=\"Average-Cost-of-Living-Index\",\n",
        "                title=\"Do people in Countries with Higher Cost of Living Make More Money?\",\n",
        "                labels={ \"Average-Mean-Annual-Salary\": \"Average Mean Annual Salary\",\n",
        "                          \"Average-Cost-of-Living-Index\": \"Average Cost of Living Index\"\n",
        "                      },\n",
        "                hover_data=[\"Country\"]\n",
        "                )\n",
        "fig.update_layout(title={'text': \"Do people in Countries with Higher Cost of Living Make More Money?\", 'x': 0.5, 'xanchor': 'center'})\n",
        "fig.show()\n",
        "\n"
      ],
      "metadata": {
        "colab": {
          "base_uri": "https://localhost:8080/",
          "height": 542
        },
        "id": "CqBgkil_VegO",
        "outputId": "d00c7b88-9b6a-46bb-ab14-5dc13f2970ee"
      },
      "execution_count": 77,
      "outputs": [
        {
          "output_type": "display_data",
          "data": {
            "text/html": [
              "<html>\n",
              "<head><meta charset=\"utf-8\" /></head>\n",
              "<body>\n",
              "    <div>            <script src=\"https://cdnjs.cloudflare.com/ajax/libs/mathjax/2.7.5/MathJax.js?config=TeX-AMS-MML_SVG\"></script><script type=\"text/javascript\">if (window.MathJax && window.MathJax.Hub && window.MathJax.Hub.Config) {window.MathJax.Hub.Config({SVG: {font: \"STIX-Web\"}});}</script>                <script type=\"text/javascript\">window.PlotlyConfig = {MathJaxConfig: 'local'};</script>\n",
              "        <script charset=\"utf-8\" src=\"https://cdn.plot.ly/plotly-2.35.2.min.js\"></script>                <div id=\"a2fed59d-5482-4f07-bff0-5a4a2bc691af\" class=\"plotly-graph-div\" style=\"height:525px; width:100%;\"></div>            <script type=\"text/javascript\">                                    window.PLOTLYENV=window.PLOTLYENV || {};                                    if (document.getElementById(\"a2fed59d-5482-4f07-bff0-5a4a2bc691af\")) {                    Plotly.newPlot(                        \"a2fed59d-5482-4f07-bff0-5a4a2bc691af\",                        [{\"customdata\":[[\"Pakistan\"],[\"Egypt\"],[\"India\"],[\"Bangladesh\"],[\"Tanzania\"],[\"Syria\"],[\"Paraguay\"],[\"Nepal\"],[\"Ukraine\"],[\"Belarus\"],[\"Iran\"],[\"Uzbekistan\"],[\"Indonesia\"],[\"Kyrgyzstan\"],[\"Tunisia\"],[\"Vietnam\"],[\"Colombia\"],[\"Algeria\"],[\"Uganda\"],[\"Iraq\"],[\"Argentina\"],[\"Morocco\"],[\"Malaysia\"],[\"Peru\"],[\"Brazil\"],[\"Kenya\"],[\"Ghana\"],[\"Russia\"],[\"Philippines\"],[\"Azerbaijan\"],[\"Nigeria\"],[\"Kazakhstan\"],[\"China\"],[\"Ecuador\"],[\"North Macedonia\"],[\"Georgia\"],[\"Moldova\"],[\"Thailand\"],[\"South Africa\"],[\"Sri Lanka\"],[\"Mauritius\"],[\"Zimbabwe\"],[\"Cameroon\"],[\"Cambodia\"],[\"Turkey\"],[\"Romania\"],[\"Serbia\"],[\"Dominican Republic\"],[\"Venezuela\"],[\"Bulgaria\"],[\"Guatemala\"],[\"Chile\"],[\"El Salvador\"],[\"Mexico\"],[\"Poland\"],[\"Armenia\"],[\"Jordan\"],[\"Hungary\"],[\"Lebanon\"],[\"Albania\"],[\"Kuwait\"],[\"Oman\"],[\"Portugal\"],[\"Taiwan\"],[\"Saudi Arabia\"],[\"Croatia\"],[\"Japan\"],[\"Panama\"],[\"Czech Republic\"],[\"Slovakia\"],[\"Lithuania\"],[\"Spain\"],[\"Latvia\"],[\"Slovenia\"],[\"Qatar\"],[\"Greece\"],[\"Estonia\"],[\"Bahrain\"],[\"Costa Rica\"],[\"Malta\"],[\"Jamaica\"],[\"Uruguay\"],[\"Cyprus\"],[\"United Arab Emirates\"],[\"Italy\"],[\"Sweden\"],[\"South Korea\"],[\"Belgium\"],[\"United Kingdom\"],[\"Germany\"],[\"Luxembourg\"],[\"Israel\"],[\"Netherlands\"],[\"Finland\"],[\"France\"],[\"Ireland\"],[\"New Zealand\"],[\"Canada\"],[\"Austria\"],[\"Australia\"],[\"United States\"],[\"Denmark\"],[\"Norway\"],[\"Barbados\"],[\"Singapore\"],[\"Iceland\"],[\"Bahamas\"],[\"Switzerland\"]],\"hovertemplate\":\"Average Mean Annual Salary=%{x}\\u003cbr\\u003eAverage Cost of Living Index=%{y}\\u003cbr\\u003eCountry=%{customdata[0]}\\u003cextra\\u003e\\u003c\\u002fextra\\u003e\",\"legendgroup\":\"\",\"marker\":{\"color\":\"#636efa\",\"symbol\":\"circle\"},\"mode\":\"markers\",\"name\":\"\",\"orientation\":\"v\",\"showlegend\":false,\"x\":[59269.39,82591.17,66207.92,40081.15,53148.07,45393.46,71789.42,28775.27,57452.1,71970.04,61919.58,58235.52,61334.61,56935.53,48426.45,51521.26,66484.36,39673.1,53511.13,55466.93,67185.67,79830.0,66344.16,66800.9,65923.74,53970.48,69232.04,62786.37,62378.54,23648.03,59182.39,50145.11,60022.82,88966.82,52403.03,50139.9,70584.7,58334.26,59626.62,50432.3,52529.2,53666.89,47813.97,56366.56,57048.3,62777.07,46625.25,74506.53,59397.3,62268.27,29306.59,65272.06,63701.24,58607.04,62470.81,61929.69,57534.01,59777.96,57592.24,23853.51,55209.71,43130.89,53280.51,64417.15,63480.75,63057.66,64259.96,77493.42,62084.07,56819.11,59861.67,79842.6,65158.69,57537.08,55607.86,53419.84,41182.44,51977.58,68221.47,85266.05,33674.48,58638.86,76807.58,56845.64,48942.07,48254.75,55106.49,55863.41,45487.49,56629.85,59845.74,66968.1,56629.45,60096.36,52602.49,61574.33,51521.33,59220.04,46091.17,60382.18,58440.41,49635.75,61492.35,22414.42,69147.5,70370.29,33809.81,63222.89],\"xaxis\":\"x\",\"y\":[18.8,21.0,21.2,22.5,23.8,24.0,25.4,25.5,25.9,26.4,26.4,26.4,26.7,27.6,28.1,28.7,28.8,28.9,29.1,29.3,29.4,29.5,30.0,30.0,30.2,30.2,30.9,31.0,31.0,31.2,31.4,31.7,31.7,32.6,33.0,33.4,34.0,34.1,34.5,34.6,37.1,37.2,37.3,37.3,37.4,37.5,37.7,37.9,38.3,38.3,38.8,39.1,39.5,40.2,40.8,41.0,41.2,41.7,41.8,42.1,42.1,42.4,45.1,45.2,45.3,45.5,46.1,46.4,46.6,46.7,47.1,47.3,49.1,49.9,51.3,52.0,52.0,52.3,52.3,52.8,53.9,54.1,54.7,55.8,56.2,59.3,60.1,61.1,62.0,62.2,62.4,62.7,63.1,63.2,63.7,64.4,64.6,64.8,65.1,70.2,70.4,72.3,76.0,76.6,76.7,83.0,85.0,101.1],\"yaxis\":\"y\",\"type\":\"scatter\"}],                        {\"template\":{\"data\":{\"histogram2dcontour\":[{\"type\":\"histogram2dcontour\",\"colorbar\":{\"outlinewidth\":0,\"ticks\":\"\"},\"colorscale\":[[0.0,\"#0d0887\"],[0.1111111111111111,\"#46039f\"],[0.2222222222222222,\"#7201a8\"],[0.3333333333333333,\"#9c179e\"],[0.4444444444444444,\"#bd3786\"],[0.5555555555555556,\"#d8576b\"],[0.6666666666666666,\"#ed7953\"],[0.7777777777777778,\"#fb9f3a\"],[0.8888888888888888,\"#fdca26\"],[1.0,\"#f0f921\"]]}],\"choropleth\":[{\"type\":\"choropleth\",\"colorbar\":{\"outlinewidth\":0,\"ticks\":\"\"}}],\"histogram2d\":[{\"type\":\"histogram2d\",\"colorbar\":{\"outlinewidth\":0,\"ticks\":\"\"},\"colorscale\":[[0.0,\"#0d0887\"],[0.1111111111111111,\"#46039f\"],[0.2222222222222222,\"#7201a8\"],[0.3333333333333333,\"#9c179e\"],[0.4444444444444444,\"#bd3786\"],[0.5555555555555556,\"#d8576b\"],[0.6666666666666666,\"#ed7953\"],[0.7777777777777778,\"#fb9f3a\"],[0.8888888888888888,\"#fdca26\"],[1.0,\"#f0f921\"]]}],\"heatmap\":[{\"type\":\"heatmap\",\"colorbar\":{\"outlinewidth\":0,\"ticks\":\"\"},\"colorscale\":[[0.0,\"#0d0887\"],[0.1111111111111111,\"#46039f\"],[0.2222222222222222,\"#7201a8\"],[0.3333333333333333,\"#9c179e\"],[0.4444444444444444,\"#bd3786\"],[0.5555555555555556,\"#d8576b\"],[0.6666666666666666,\"#ed7953\"],[0.7777777777777778,\"#fb9f3a\"],[0.8888888888888888,\"#fdca26\"],[1.0,\"#f0f921\"]]}],\"heatmapgl\":[{\"type\":\"heatmapgl\",\"colorbar\":{\"outlinewidth\":0,\"ticks\":\"\"},\"colorscale\":[[0.0,\"#0d0887\"],[0.1111111111111111,\"#46039f\"],[0.2222222222222222,\"#7201a8\"],[0.3333333333333333,\"#9c179e\"],[0.4444444444444444,\"#bd3786\"],[0.5555555555555556,\"#d8576b\"],[0.6666666666666666,\"#ed7953\"],[0.7777777777777778,\"#fb9f3a\"],[0.8888888888888888,\"#fdca26\"],[1.0,\"#f0f921\"]]}],\"contourcarpet\":[{\"type\":\"contourcarpet\",\"colorbar\":{\"outlinewidth\":0,\"ticks\":\"\"}}],\"contour\":[{\"type\":\"contour\",\"colorbar\":{\"outlinewidth\":0,\"ticks\":\"\"},\"colorscale\":[[0.0,\"#0d0887\"],[0.1111111111111111,\"#46039f\"],[0.2222222222222222,\"#7201a8\"],[0.3333333333333333,\"#9c179e\"],[0.4444444444444444,\"#bd3786\"],[0.5555555555555556,\"#d8576b\"],[0.6666666666666666,\"#ed7953\"],[0.7777777777777778,\"#fb9f3a\"],[0.8888888888888888,\"#fdca26\"],[1.0,\"#f0f921\"]]}],\"surface\":[{\"type\":\"surface\",\"colorbar\":{\"outlinewidth\":0,\"ticks\":\"\"},\"colorscale\":[[0.0,\"#0d0887\"],[0.1111111111111111,\"#46039f\"],[0.2222222222222222,\"#7201a8\"],[0.3333333333333333,\"#9c179e\"],[0.4444444444444444,\"#bd3786\"],[0.5555555555555556,\"#d8576b\"],[0.6666666666666666,\"#ed7953\"],[0.7777777777777778,\"#fb9f3a\"],[0.8888888888888888,\"#fdca26\"],[1.0,\"#f0f921\"]]}],\"mesh3d\":[{\"type\":\"mesh3d\",\"colorbar\":{\"outlinewidth\":0,\"ticks\":\"\"}}],\"scatter\":[{\"fillpattern\":{\"fillmode\":\"overlay\",\"size\":10,\"solidity\":0.2},\"type\":\"scatter\"}],\"parcoords\":[{\"type\":\"parcoords\",\"line\":{\"colorbar\":{\"outlinewidth\":0,\"ticks\":\"\"}}}],\"scatterpolargl\":[{\"type\":\"scatterpolargl\",\"marker\":{\"colorbar\":{\"outlinewidth\":0,\"ticks\":\"\"}}}],\"bar\":[{\"error_x\":{\"color\":\"#2a3f5f\"},\"error_y\":{\"color\":\"#2a3f5f\"},\"marker\":{\"line\":{\"color\":\"#E5ECF6\",\"width\":0.5},\"pattern\":{\"fillmode\":\"overlay\",\"size\":10,\"solidity\":0.2}},\"type\":\"bar\"}],\"scattergeo\":[{\"type\":\"scattergeo\",\"marker\":{\"colorbar\":{\"outlinewidth\":0,\"ticks\":\"\"}}}],\"scatterpolar\":[{\"type\":\"scatterpolar\",\"marker\":{\"colorbar\":{\"outlinewidth\":0,\"ticks\":\"\"}}}],\"histogram\":[{\"marker\":{\"pattern\":{\"fillmode\":\"overlay\",\"size\":10,\"solidity\":0.2}},\"type\":\"histogram\"}],\"scattergl\":[{\"type\":\"scattergl\",\"marker\":{\"colorbar\":{\"outlinewidth\":0,\"ticks\":\"\"}}}],\"scatter3d\":[{\"type\":\"scatter3d\",\"line\":{\"colorbar\":{\"outlinewidth\":0,\"ticks\":\"\"}},\"marker\":{\"colorbar\":{\"outlinewidth\":0,\"ticks\":\"\"}}}],\"scattermapbox\":[{\"type\":\"scattermapbox\",\"marker\":{\"colorbar\":{\"outlinewidth\":0,\"ticks\":\"\"}}}],\"scatterternary\":[{\"type\":\"scatterternary\",\"marker\":{\"colorbar\":{\"outlinewidth\":0,\"ticks\":\"\"}}}],\"scattercarpet\":[{\"type\":\"scattercarpet\",\"marker\":{\"colorbar\":{\"outlinewidth\":0,\"ticks\":\"\"}}}],\"carpet\":[{\"aaxis\":{\"endlinecolor\":\"#2a3f5f\",\"gridcolor\":\"white\",\"linecolor\":\"white\",\"minorgridcolor\":\"white\",\"startlinecolor\":\"#2a3f5f\"},\"baxis\":{\"endlinecolor\":\"#2a3f5f\",\"gridcolor\":\"white\",\"linecolor\":\"white\",\"minorgridcolor\":\"white\",\"startlinecolor\":\"#2a3f5f\"},\"type\":\"carpet\"}],\"table\":[{\"cells\":{\"fill\":{\"color\":\"#EBF0F8\"},\"line\":{\"color\":\"white\"}},\"header\":{\"fill\":{\"color\":\"#C8D4E3\"},\"line\":{\"color\":\"white\"}},\"type\":\"table\"}],\"barpolar\":[{\"marker\":{\"line\":{\"color\":\"#E5ECF6\",\"width\":0.5},\"pattern\":{\"fillmode\":\"overlay\",\"size\":10,\"solidity\":0.2}},\"type\":\"barpolar\"}],\"pie\":[{\"automargin\":true,\"type\":\"pie\"}]},\"layout\":{\"autotypenumbers\":\"strict\",\"colorway\":[\"#636efa\",\"#EF553B\",\"#00cc96\",\"#ab63fa\",\"#FFA15A\",\"#19d3f3\",\"#FF6692\",\"#B6E880\",\"#FF97FF\",\"#FECB52\"],\"font\":{\"color\":\"#2a3f5f\"},\"hovermode\":\"closest\",\"hoverlabel\":{\"align\":\"left\"},\"paper_bgcolor\":\"white\",\"plot_bgcolor\":\"#E5ECF6\",\"polar\":{\"bgcolor\":\"#E5ECF6\",\"angularaxis\":{\"gridcolor\":\"white\",\"linecolor\":\"white\",\"ticks\":\"\"},\"radialaxis\":{\"gridcolor\":\"white\",\"linecolor\":\"white\",\"ticks\":\"\"}},\"ternary\":{\"bgcolor\":\"#E5ECF6\",\"aaxis\":{\"gridcolor\":\"white\",\"linecolor\":\"white\",\"ticks\":\"\"},\"baxis\":{\"gridcolor\":\"white\",\"linecolor\":\"white\",\"ticks\":\"\"},\"caxis\":{\"gridcolor\":\"white\",\"linecolor\":\"white\",\"ticks\":\"\"}},\"coloraxis\":{\"colorbar\":{\"outlinewidth\":0,\"ticks\":\"\"}},\"colorscale\":{\"sequential\":[[0.0,\"#0d0887\"],[0.1111111111111111,\"#46039f\"],[0.2222222222222222,\"#7201a8\"],[0.3333333333333333,\"#9c179e\"],[0.4444444444444444,\"#bd3786\"],[0.5555555555555556,\"#d8576b\"],[0.6666666666666666,\"#ed7953\"],[0.7777777777777778,\"#fb9f3a\"],[0.8888888888888888,\"#fdca26\"],[1.0,\"#f0f921\"]],\"sequentialminus\":[[0.0,\"#0d0887\"],[0.1111111111111111,\"#46039f\"],[0.2222222222222222,\"#7201a8\"],[0.3333333333333333,\"#9c179e\"],[0.4444444444444444,\"#bd3786\"],[0.5555555555555556,\"#d8576b\"],[0.6666666666666666,\"#ed7953\"],[0.7777777777777778,\"#fb9f3a\"],[0.8888888888888888,\"#fdca26\"],[1.0,\"#f0f921\"]],\"diverging\":[[0,\"#8e0152\"],[0.1,\"#c51b7d\"],[0.2,\"#de77ae\"],[0.3,\"#f1b6da\"],[0.4,\"#fde0ef\"],[0.5,\"#f7f7f7\"],[0.6,\"#e6f5d0\"],[0.7,\"#b8e186\"],[0.8,\"#7fbc41\"],[0.9,\"#4d9221\"],[1,\"#276419\"]]},\"xaxis\":{\"gridcolor\":\"white\",\"linecolor\":\"white\",\"ticks\":\"\",\"title\":{\"standoff\":15},\"zerolinecolor\":\"white\",\"automargin\":true,\"zerolinewidth\":2},\"yaxis\":{\"gridcolor\":\"white\",\"linecolor\":\"white\",\"ticks\":\"\",\"title\":{\"standoff\":15},\"zerolinecolor\":\"white\",\"automargin\":true,\"zerolinewidth\":2},\"scene\":{\"xaxis\":{\"backgroundcolor\":\"#E5ECF6\",\"gridcolor\":\"white\",\"linecolor\":\"white\",\"showbackground\":true,\"ticks\":\"\",\"zerolinecolor\":\"white\",\"gridwidth\":2},\"yaxis\":{\"backgroundcolor\":\"#E5ECF6\",\"gridcolor\":\"white\",\"linecolor\":\"white\",\"showbackground\":true,\"ticks\":\"\",\"zerolinecolor\":\"white\",\"gridwidth\":2},\"zaxis\":{\"backgroundcolor\":\"#E5ECF6\",\"gridcolor\":\"white\",\"linecolor\":\"white\",\"showbackground\":true,\"ticks\":\"\",\"zerolinecolor\":\"white\",\"gridwidth\":2}},\"shapedefaults\":{\"line\":{\"color\":\"#2a3f5f\"}},\"annotationdefaults\":{\"arrowcolor\":\"#2a3f5f\",\"arrowhead\":0,\"arrowwidth\":1},\"geo\":{\"bgcolor\":\"white\",\"landcolor\":\"#E5ECF6\",\"subunitcolor\":\"white\",\"showland\":true,\"showlakes\":true,\"lakecolor\":\"white\"},\"title\":{\"x\":0.05},\"mapbox\":{\"style\":\"light\"}}},\"xaxis\":{\"anchor\":\"y\",\"domain\":[0.0,1.0],\"title\":{\"text\":\"Average Mean Annual Salary\"}},\"yaxis\":{\"anchor\":\"x\",\"domain\":[0.0,1.0],\"title\":{\"text\":\"Average Cost of Living Index\"}},\"legend\":{\"tracegroupgap\":0},\"title\":{\"text\":\"Do people in Countries with Higher Cost of Living Make More Money?\",\"x\":0.5,\"xanchor\":\"center\"}},                        {\"responsive\": true}                    ).then(function(){\n",
              "                            \n",
              "var gd = document.getElementById('a2fed59d-5482-4f07-bff0-5a4a2bc691af');\n",
              "var x = new MutationObserver(function (mutations, observer) {{\n",
              "        var display = window.getComputedStyle(gd).display;\n",
              "        if (!display || display === 'none') {{\n",
              "            console.log([gd, 'removed!']);\n",
              "            Plotly.purge(gd);\n",
              "            observer.disconnect();\n",
              "        }}\n",
              "}});\n",
              "\n",
              "// Listen for the removal of the full notebook cells\n",
              "var notebookContainer = gd.closest('#notebook-container');\n",
              "if (notebookContainer) {{\n",
              "    x.observe(notebookContainer, {childList: true});\n",
              "}}\n",
              "\n",
              "// Listen for the clearing of the current output cell\n",
              "var outputEl = gd.closest('.output');\n",
              "if (outputEl) {{\n",
              "    x.observe(outputEl, {childList: true});\n",
              "}}\n",
              "\n",
              "                        })                };                            </script>        </div>\n",
              "</body>\n",
              "</html>"
            ]
          },
          "metadata": {}
        }
      ]
    },
    {
      "cell_type": "code",
      "source": [
        "import plotly.graph_objects as go\n",
        "\n",
        "\n",
        "fig = go.Figure()\n",
        "\n",
        "for country in pandas_df['Country'].unique():\n",
        "    country_df = pandas_df[pandas_df['Country'] == country]\n",
        "    fig.add_trace(go.Scatter(\n",
        "        x=country_df['Average-Mean-Annual-Salary'],\n",
        "        y=country_df['Average-Cost-of-Living-Index'],\n",
        "        mode='markers',\n",
        "        marker= dict(color='green'),\n",
        "        name=country,\n",
        "        visible=(country == pandas_df['Country'].unique()[0]) # Initially show only the first country\n",
        "    ))\n",
        "\n",
        "# Buttons for dropdown menu\n",
        "buttons = []\n",
        "for i, country in enumerate(pandas_df['Country'].unique()):\n",
        "    visibility = [False] * len(pandas_df['Country'].unique())\n",
        "    visibility[i] = True\n",
        "    button = dict(\n",
        "        label=country,\n",
        "        method=\"update\",\n",
        "        args=[{\"visible\": visibility},\n",
        "              {\"title\": f\"Scatter Plot - {country}\"}]\n",
        "    )\n",
        "    buttons.append(button)\n",
        "\n",
        "# Button for all countries\n",
        "buttons.insert(0, dict(label=\"All\",\n",
        "                       method=\"update\",\n",
        "                       args=[{\"visible\": [True] * len(pandas_df['Country'].unique())},\n",
        "                             {\"title\": \"Do people in Countries with Higher Cost of Living Make More Money?\"}]))\n",
        "\n",
        "\n",
        "fig.update_layout(\n",
        "    updatemenus=[dict(\n",
        "        active=0,  # Default to showing all countries\n",
        "        buttons=buttons,\n",
        "        x=0.0,\n",
        "        xanchor='left',\n",
        "        y=1.1,\n",
        "        yanchor='top'\n",
        "    )],\n",
        "    title={'text': \"Do people in Countries with Higher Cost of Living Make More Money?\", 'x': 0.5, 'xanchor': 'center'}\n",
        ")\n",
        "\n",
        "for trace in fig.data:\n",
        "  trace.visible = 'legendonly'\n",
        "fig.show()"
      ],
      "metadata": {
        "colab": {
          "base_uri": "https://localhost:8080/",
          "height": 542
        },
        "id": "AQN9Dsujjlys",
        "outputId": "896ea3a7-0050-4b44-822b-ff8377e49ef4"
      },
      "execution_count": 88,
      "outputs": [
        {
          "output_type": "display_data",
          "data": {
            "text/html": [
              "<html>\n",
              "<head><meta charset=\"utf-8\" /></head>\n",
              "<body>\n",
              "    <div>            <script src=\"https://cdnjs.cloudflare.com/ajax/libs/mathjax/2.7.5/MathJax.js?config=TeX-AMS-MML_SVG\"></script><script type=\"text/javascript\">if (window.MathJax && window.MathJax.Hub && window.MathJax.Hub.Config) {window.MathJax.Hub.Config({SVG: {font: \"STIX-Web\"}});}</script>                <script type=\"text/javascript\">window.PlotlyConfig = {MathJaxConfig: 'local'};</script>\n",
              "        <script charset=\"utf-8\" src=\"https://cdn.plot.ly/plotly-2.35.2.min.js\"></script>                <div id=\"f235ef07-197e-42fb-835a-37e0dbe157e3\" class=\"plotly-graph-div\" style=\"height:525px; width:100%;\"></div>            <script type=\"text/javascript\">                                    window.PLOTLYENV=window.PLOTLYENV || {};                                    if (document.getElementById(\"f235ef07-197e-42fb-835a-37e0dbe157e3\")) {                    Plotly.newPlot(                        \"f235ef07-197e-42fb-835a-37e0dbe157e3\",                        [{\"marker\":{\"color\":\"green\"},\"mode\":\"markers\",\"name\":\"Pakistan\",\"visible\":\"legendonly\",\"x\":[59269.39],\"y\":[18.8],\"type\":\"scatter\"},{\"marker\":{\"color\":\"green\"},\"mode\":\"markers\",\"name\":\"Egypt\",\"visible\":\"legendonly\",\"x\":[82591.17],\"y\":[21.0],\"type\":\"scatter\"},{\"marker\":{\"color\":\"green\"},\"mode\":\"markers\",\"name\":\"India\",\"visible\":\"legendonly\",\"x\":[66207.92],\"y\":[21.2],\"type\":\"scatter\"},{\"marker\":{\"color\":\"green\"},\"mode\":\"markers\",\"name\":\"Bangladesh\",\"visible\":\"legendonly\",\"x\":[40081.15],\"y\":[22.5],\"type\":\"scatter\"},{\"marker\":{\"color\":\"green\"},\"mode\":\"markers\",\"name\":\"Tanzania\",\"visible\":\"legendonly\",\"x\":[53148.07],\"y\":[23.8],\"type\":\"scatter\"},{\"marker\":{\"color\":\"green\"},\"mode\":\"markers\",\"name\":\"Syria\",\"visible\":\"legendonly\",\"x\":[45393.46],\"y\":[24.0],\"type\":\"scatter\"},{\"marker\":{\"color\":\"green\"},\"mode\":\"markers\",\"name\":\"Paraguay\",\"visible\":\"legendonly\",\"x\":[71789.42],\"y\":[25.4],\"type\":\"scatter\"},{\"marker\":{\"color\":\"green\"},\"mode\":\"markers\",\"name\":\"Nepal\",\"visible\":\"legendonly\",\"x\":[28775.27],\"y\":[25.5],\"type\":\"scatter\"},{\"marker\":{\"color\":\"green\"},\"mode\":\"markers\",\"name\":\"Ukraine\",\"visible\":\"legendonly\",\"x\":[57452.1],\"y\":[25.9],\"type\":\"scatter\"},{\"marker\":{\"color\":\"green\"},\"mode\":\"markers\",\"name\":\"Belarus\",\"visible\":\"legendonly\",\"x\":[71970.04],\"y\":[26.4],\"type\":\"scatter\"},{\"marker\":{\"color\":\"green\"},\"mode\":\"markers\",\"name\":\"Iran\",\"visible\":\"legendonly\",\"x\":[61919.58],\"y\":[26.4],\"type\":\"scatter\"},{\"marker\":{\"color\":\"green\"},\"mode\":\"markers\",\"name\":\"Uzbekistan\",\"visible\":\"legendonly\",\"x\":[58235.52],\"y\":[26.4],\"type\":\"scatter\"},{\"marker\":{\"color\":\"green\"},\"mode\":\"markers\",\"name\":\"Indonesia\",\"visible\":\"legendonly\",\"x\":[61334.61],\"y\":[26.7],\"type\":\"scatter\"},{\"marker\":{\"color\":\"green\"},\"mode\":\"markers\",\"name\":\"Kyrgyzstan\",\"visible\":\"legendonly\",\"x\":[56935.53],\"y\":[27.6],\"type\":\"scatter\"},{\"marker\":{\"color\":\"green\"},\"mode\":\"markers\",\"name\":\"Tunisia\",\"visible\":\"legendonly\",\"x\":[48426.45],\"y\":[28.1],\"type\":\"scatter\"},{\"marker\":{\"color\":\"green\"},\"mode\":\"markers\",\"name\":\"Vietnam\",\"visible\":\"legendonly\",\"x\":[51521.26],\"y\":[28.7],\"type\":\"scatter\"},{\"marker\":{\"color\":\"green\"},\"mode\":\"markers\",\"name\":\"Colombia\",\"visible\":\"legendonly\",\"x\":[66484.36],\"y\":[28.8],\"type\":\"scatter\"},{\"marker\":{\"color\":\"green\"},\"mode\":\"markers\",\"name\":\"Algeria\",\"visible\":\"legendonly\",\"x\":[39673.1],\"y\":[28.9],\"type\":\"scatter\"},{\"marker\":{\"color\":\"green\"},\"mode\":\"markers\",\"name\":\"Uganda\",\"visible\":\"legendonly\",\"x\":[53511.13],\"y\":[29.1],\"type\":\"scatter\"},{\"marker\":{\"color\":\"green\"},\"mode\":\"markers\",\"name\":\"Iraq\",\"visible\":\"legendonly\",\"x\":[55466.93],\"y\":[29.3],\"type\":\"scatter\"},{\"marker\":{\"color\":\"green\"},\"mode\":\"markers\",\"name\":\"Argentina\",\"visible\":\"legendonly\",\"x\":[67185.67],\"y\":[29.4],\"type\":\"scatter\"},{\"marker\":{\"color\":\"green\"},\"mode\":\"markers\",\"name\":\"Morocco\",\"visible\":\"legendonly\",\"x\":[79830.0],\"y\":[29.5],\"type\":\"scatter\"},{\"marker\":{\"color\":\"green\"},\"mode\":\"markers\",\"name\":\"Malaysia\",\"visible\":\"legendonly\",\"x\":[66344.16],\"y\":[30.0],\"type\":\"scatter\"},{\"marker\":{\"color\":\"green\"},\"mode\":\"markers\",\"name\":\"Peru\",\"visible\":\"legendonly\",\"x\":[66800.9],\"y\":[30.0],\"type\":\"scatter\"},{\"marker\":{\"color\":\"green\"},\"mode\":\"markers\",\"name\":\"Brazil\",\"visible\":\"legendonly\",\"x\":[65923.74],\"y\":[30.2],\"type\":\"scatter\"},{\"marker\":{\"color\":\"green\"},\"mode\":\"markers\",\"name\":\"Kenya\",\"visible\":\"legendonly\",\"x\":[53970.48],\"y\":[30.2],\"type\":\"scatter\"},{\"marker\":{\"color\":\"green\"},\"mode\":\"markers\",\"name\":\"Ghana\",\"visible\":\"legendonly\",\"x\":[69232.04],\"y\":[30.9],\"type\":\"scatter\"},{\"marker\":{\"color\":\"green\"},\"mode\":\"markers\",\"name\":\"Russia\",\"visible\":\"legendonly\",\"x\":[62786.37],\"y\":[31.0],\"type\":\"scatter\"},{\"marker\":{\"color\":\"green\"},\"mode\":\"markers\",\"name\":\"Philippines\",\"visible\":\"legendonly\",\"x\":[62378.54],\"y\":[31.0],\"type\":\"scatter\"},{\"marker\":{\"color\":\"green\"},\"mode\":\"markers\",\"name\":\"Azerbaijan\",\"visible\":\"legendonly\",\"x\":[23648.03],\"y\":[31.2],\"type\":\"scatter\"},{\"marker\":{\"color\":\"green\"},\"mode\":\"markers\",\"name\":\"Nigeria\",\"visible\":\"legendonly\",\"x\":[59182.39],\"y\":[31.4],\"type\":\"scatter\"},{\"marker\":{\"color\":\"green\"},\"mode\":\"markers\",\"name\":\"Kazakhstan\",\"visible\":\"legendonly\",\"x\":[50145.11],\"y\":[31.7],\"type\":\"scatter\"},{\"marker\":{\"color\":\"green\"},\"mode\":\"markers\",\"name\":\"China\",\"visible\":\"legendonly\",\"x\":[60022.82],\"y\":[31.7],\"type\":\"scatter\"},{\"marker\":{\"color\":\"green\"},\"mode\":\"markers\",\"name\":\"Ecuador\",\"visible\":\"legendonly\",\"x\":[88966.82],\"y\":[32.6],\"type\":\"scatter\"},{\"marker\":{\"color\":\"green\"},\"mode\":\"markers\",\"name\":\"North Macedonia\",\"visible\":\"legendonly\",\"x\":[52403.03],\"y\":[33.0],\"type\":\"scatter\"},{\"marker\":{\"color\":\"green\"},\"mode\":\"markers\",\"name\":\"Georgia\",\"visible\":\"legendonly\",\"x\":[50139.9],\"y\":[33.4],\"type\":\"scatter\"},{\"marker\":{\"color\":\"green\"},\"mode\":\"markers\",\"name\":\"Moldova\",\"visible\":\"legendonly\",\"x\":[70584.7],\"y\":[34.0],\"type\":\"scatter\"},{\"marker\":{\"color\":\"green\"},\"mode\":\"markers\",\"name\":\"Thailand\",\"visible\":\"legendonly\",\"x\":[58334.26],\"y\":[34.1],\"type\":\"scatter\"},{\"marker\":{\"color\":\"green\"},\"mode\":\"markers\",\"name\":\"South Africa\",\"visible\":\"legendonly\",\"x\":[59626.62],\"y\":[34.5],\"type\":\"scatter\"},{\"marker\":{\"color\":\"green\"},\"mode\":\"markers\",\"name\":\"Sri Lanka\",\"visible\":\"legendonly\",\"x\":[50432.3],\"y\":[34.6],\"type\":\"scatter\"},{\"marker\":{\"color\":\"green\"},\"mode\":\"markers\",\"name\":\"Mauritius\",\"visible\":\"legendonly\",\"x\":[52529.2],\"y\":[37.1],\"type\":\"scatter\"},{\"marker\":{\"color\":\"green\"},\"mode\":\"markers\",\"name\":\"Zimbabwe\",\"visible\":\"legendonly\",\"x\":[53666.89],\"y\":[37.2],\"type\":\"scatter\"},{\"marker\":{\"color\":\"green\"},\"mode\":\"markers\",\"name\":\"Cameroon\",\"visible\":\"legendonly\",\"x\":[47813.97],\"y\":[37.3],\"type\":\"scatter\"},{\"marker\":{\"color\":\"green\"},\"mode\":\"markers\",\"name\":\"Cambodia\",\"visible\":\"legendonly\",\"x\":[56366.56],\"y\":[37.3],\"type\":\"scatter\"},{\"marker\":{\"color\":\"green\"},\"mode\":\"markers\",\"name\":\"Turkey\",\"visible\":\"legendonly\",\"x\":[57048.3],\"y\":[37.4],\"type\":\"scatter\"},{\"marker\":{\"color\":\"green\"},\"mode\":\"markers\",\"name\":\"Romania\",\"visible\":\"legendonly\",\"x\":[62777.07],\"y\":[37.5],\"type\":\"scatter\"},{\"marker\":{\"color\":\"green\"},\"mode\":\"markers\",\"name\":\"Serbia\",\"visible\":\"legendonly\",\"x\":[46625.25],\"y\":[37.7],\"type\":\"scatter\"},{\"marker\":{\"color\":\"green\"},\"mode\":\"markers\",\"name\":\"Dominican Republic\",\"visible\":\"legendonly\",\"x\":[74506.53],\"y\":[37.9],\"type\":\"scatter\"},{\"marker\":{\"color\":\"green\"},\"mode\":\"markers\",\"name\":\"Venezuela\",\"visible\":\"legendonly\",\"x\":[59397.3],\"y\":[38.3],\"type\":\"scatter\"},{\"marker\":{\"color\":\"green\"},\"mode\":\"markers\",\"name\":\"Bulgaria\",\"visible\":\"legendonly\",\"x\":[62268.27],\"y\":[38.3],\"type\":\"scatter\"},{\"marker\":{\"color\":\"green\"},\"mode\":\"markers\",\"name\":\"Guatemala\",\"visible\":\"legendonly\",\"x\":[29306.59],\"y\":[38.8],\"type\":\"scatter\"},{\"marker\":{\"color\":\"green\"},\"mode\":\"markers\",\"name\":\"Chile\",\"visible\":\"legendonly\",\"x\":[65272.06],\"y\":[39.1],\"type\":\"scatter\"},{\"marker\":{\"color\":\"green\"},\"mode\":\"markers\",\"name\":\"El Salvador\",\"visible\":\"legendonly\",\"x\":[63701.24],\"y\":[39.5],\"type\":\"scatter\"},{\"marker\":{\"color\":\"green\"},\"mode\":\"markers\",\"name\":\"Mexico\",\"visible\":\"legendonly\",\"x\":[58607.04],\"y\":[40.2],\"type\":\"scatter\"},{\"marker\":{\"color\":\"green\"},\"mode\":\"markers\",\"name\":\"Poland\",\"visible\":\"legendonly\",\"x\":[62470.81],\"y\":[40.8],\"type\":\"scatter\"},{\"marker\":{\"color\":\"green\"},\"mode\":\"markers\",\"name\":\"Armenia\",\"visible\":\"legendonly\",\"x\":[61929.69],\"y\":[41.0],\"type\":\"scatter\"},{\"marker\":{\"color\":\"green\"},\"mode\":\"markers\",\"name\":\"Jordan\",\"visible\":\"legendonly\",\"x\":[57534.01],\"y\":[41.2],\"type\":\"scatter\"},{\"marker\":{\"color\":\"green\"},\"mode\":\"markers\",\"name\":\"Hungary\",\"visible\":\"legendonly\",\"x\":[59777.96],\"y\":[41.7],\"type\":\"scatter\"},{\"marker\":{\"color\":\"green\"},\"mode\":\"markers\",\"name\":\"Lebanon\",\"visible\":\"legendonly\",\"x\":[57592.24],\"y\":[41.8],\"type\":\"scatter\"},{\"marker\":{\"color\":\"green\"},\"mode\":\"markers\",\"name\":\"Albania\",\"visible\":\"legendonly\",\"x\":[23853.51],\"y\":[42.1],\"type\":\"scatter\"},{\"marker\":{\"color\":\"green\"},\"mode\":\"markers\",\"name\":\"Kuwait\",\"visible\":\"legendonly\",\"x\":[55209.71],\"y\":[42.1],\"type\":\"scatter\"},{\"marker\":{\"color\":\"green\"},\"mode\":\"markers\",\"name\":\"Oman\",\"visible\":\"legendonly\",\"x\":[43130.89],\"y\":[42.4],\"type\":\"scatter\"},{\"marker\":{\"color\":\"green\"},\"mode\":\"markers\",\"name\":\"Portugal\",\"visible\":\"legendonly\",\"x\":[53280.51],\"y\":[45.1],\"type\":\"scatter\"},{\"marker\":{\"color\":\"green\"},\"mode\":\"markers\",\"name\":\"Taiwan\",\"visible\":\"legendonly\",\"x\":[64417.15],\"y\":[45.2],\"type\":\"scatter\"},{\"marker\":{\"color\":\"green\"},\"mode\":\"markers\",\"name\":\"Saudi Arabia\",\"visible\":\"legendonly\",\"x\":[63480.75],\"y\":[45.3],\"type\":\"scatter\"},{\"marker\":{\"color\":\"green\"},\"mode\":\"markers\",\"name\":\"Croatia\",\"visible\":\"legendonly\",\"x\":[63057.66],\"y\":[45.5],\"type\":\"scatter\"},{\"marker\":{\"color\":\"green\"},\"mode\":\"markers\",\"name\":\"Japan\",\"visible\":\"legendonly\",\"x\":[64259.96],\"y\":[46.1],\"type\":\"scatter\"},{\"marker\":{\"color\":\"green\"},\"mode\":\"markers\",\"name\":\"Panama\",\"visible\":\"legendonly\",\"x\":[77493.42],\"y\":[46.4],\"type\":\"scatter\"},{\"marker\":{\"color\":\"green\"},\"mode\":\"markers\",\"name\":\"Czech Republic\",\"visible\":\"legendonly\",\"x\":[62084.07],\"y\":[46.6],\"type\":\"scatter\"},{\"marker\":{\"color\":\"green\"},\"mode\":\"markers\",\"name\":\"Slovakia\",\"visible\":\"legendonly\",\"x\":[56819.11],\"y\":[46.7],\"type\":\"scatter\"},{\"marker\":{\"color\":\"green\"},\"mode\":\"markers\",\"name\":\"Lithuania\",\"visible\":\"legendonly\",\"x\":[59861.67],\"y\":[47.1],\"type\":\"scatter\"},{\"marker\":{\"color\":\"green\"},\"mode\":\"markers\",\"name\":\"Spain\",\"visible\":\"legendonly\",\"x\":[79842.6],\"y\":[47.3],\"type\":\"scatter\"},{\"marker\":{\"color\":\"green\"},\"mode\":\"markers\",\"name\":\"Latvia\",\"visible\":\"legendonly\",\"x\":[65158.69],\"y\":[49.1],\"type\":\"scatter\"},{\"marker\":{\"color\":\"green\"},\"mode\":\"markers\",\"name\":\"Slovenia\",\"visible\":\"legendonly\",\"x\":[57537.08],\"y\":[49.9],\"type\":\"scatter\"},{\"marker\":{\"color\":\"green\"},\"mode\":\"markers\",\"name\":\"Qatar\",\"visible\":\"legendonly\",\"x\":[55607.86],\"y\":[51.3],\"type\":\"scatter\"},{\"marker\":{\"color\":\"green\"},\"mode\":\"markers\",\"name\":\"Greece\",\"visible\":\"legendonly\",\"x\":[53419.84],\"y\":[52.0],\"type\":\"scatter\"},{\"marker\":{\"color\":\"green\"},\"mode\":\"markers\",\"name\":\"Estonia\",\"visible\":\"legendonly\",\"x\":[41182.44],\"y\":[52.0],\"type\":\"scatter\"},{\"marker\":{\"color\":\"green\"},\"mode\":\"markers\",\"name\":\"Bahrain\",\"visible\":\"legendonly\",\"x\":[51977.58],\"y\":[52.3],\"type\":\"scatter\"},{\"marker\":{\"color\":\"green\"},\"mode\":\"markers\",\"name\":\"Costa Rica\",\"visible\":\"legendonly\",\"x\":[68221.47],\"y\":[52.3],\"type\":\"scatter\"},{\"marker\":{\"color\":\"green\"},\"mode\":\"markers\",\"name\":\"Malta\",\"visible\":\"legendonly\",\"x\":[85266.05],\"y\":[52.8],\"type\":\"scatter\"},{\"marker\":{\"color\":\"green\"},\"mode\":\"markers\",\"name\":\"Jamaica\",\"visible\":\"legendonly\",\"x\":[33674.48],\"y\":[53.9],\"type\":\"scatter\"},{\"marker\":{\"color\":\"green\"},\"mode\":\"markers\",\"name\":\"Uruguay\",\"visible\":\"legendonly\",\"x\":[58638.86],\"y\":[54.1],\"type\":\"scatter\"},{\"marker\":{\"color\":\"green\"},\"mode\":\"markers\",\"name\":\"Cyprus\",\"visible\":\"legendonly\",\"x\":[76807.58],\"y\":[54.7],\"type\":\"scatter\"},{\"marker\":{\"color\":\"green\"},\"mode\":\"markers\",\"name\":\"United Arab Emirates\",\"visible\":\"legendonly\",\"x\":[56845.64],\"y\":[55.8],\"type\":\"scatter\"},{\"marker\":{\"color\":\"green\"},\"mode\":\"markers\",\"name\":\"Italy\",\"visible\":\"legendonly\",\"x\":[48942.07],\"y\":[56.2],\"type\":\"scatter\"},{\"marker\":{\"color\":\"green\"},\"mode\":\"markers\",\"name\":\"Sweden\",\"visible\":\"legendonly\",\"x\":[48254.75],\"y\":[59.3],\"type\":\"scatter\"},{\"marker\":{\"color\":\"green\"},\"mode\":\"markers\",\"name\":\"South Korea\",\"visible\":\"legendonly\",\"x\":[55106.49],\"y\":[60.1],\"type\":\"scatter\"},{\"marker\":{\"color\":\"green\"},\"mode\":\"markers\",\"name\":\"Belgium\",\"visible\":\"legendonly\",\"x\":[55863.41],\"y\":[61.1],\"type\":\"scatter\"},{\"marker\":{\"color\":\"green\"},\"mode\":\"markers\",\"name\":\"United Kingdom\",\"visible\":\"legendonly\",\"x\":[45487.49],\"y\":[62.0],\"type\":\"scatter\"},{\"marker\":{\"color\":\"green\"},\"mode\":\"markers\",\"name\":\"Germany\",\"visible\":\"legendonly\",\"x\":[56629.85],\"y\":[62.2],\"type\":\"scatter\"},{\"marker\":{\"color\":\"green\"},\"mode\":\"markers\",\"name\":\"Luxembourg\",\"visible\":\"legendonly\",\"x\":[59845.74],\"y\":[62.4],\"type\":\"scatter\"},{\"marker\":{\"color\":\"green\"},\"mode\":\"markers\",\"name\":\"Israel\",\"visible\":\"legendonly\",\"x\":[66968.1],\"y\":[62.7],\"type\":\"scatter\"},{\"marker\":{\"color\":\"green\"},\"mode\":\"markers\",\"name\":\"Netherlands\",\"visible\":\"legendonly\",\"x\":[56629.45],\"y\":[63.1],\"type\":\"scatter\"},{\"marker\":{\"color\":\"green\"},\"mode\":\"markers\",\"name\":\"Finland\",\"visible\":\"legendonly\",\"x\":[60096.36],\"y\":[63.2],\"type\":\"scatter\"},{\"marker\":{\"color\":\"green\"},\"mode\":\"markers\",\"name\":\"France\",\"visible\":\"legendonly\",\"x\":[52602.49],\"y\":[63.7],\"type\":\"scatter\"},{\"marker\":{\"color\":\"green\"},\"mode\":\"markers\",\"name\":\"Ireland\",\"visible\":\"legendonly\",\"x\":[61574.33],\"y\":[64.4],\"type\":\"scatter\"},{\"marker\":{\"color\":\"green\"},\"mode\":\"markers\",\"name\":\"New Zealand\",\"visible\":\"legendonly\",\"x\":[51521.33],\"y\":[64.6],\"type\":\"scatter\"},{\"marker\":{\"color\":\"green\"},\"mode\":\"markers\",\"name\":\"Canada\",\"visible\":\"legendonly\",\"x\":[59220.04],\"y\":[64.8],\"type\":\"scatter\"},{\"marker\":{\"color\":\"green\"},\"mode\":\"markers\",\"name\":\"Austria\",\"visible\":\"legendonly\",\"x\":[46091.17],\"y\":[65.1],\"type\":\"scatter\"},{\"marker\":{\"color\":\"green\"},\"mode\":\"markers\",\"name\":\"Australia\",\"visible\":\"legendonly\",\"x\":[60382.18],\"y\":[70.2],\"type\":\"scatter\"},{\"marker\":{\"color\":\"green\"},\"mode\":\"markers\",\"name\":\"United States\",\"visible\":\"legendonly\",\"x\":[58440.41],\"y\":[70.4],\"type\":\"scatter\"},{\"marker\":{\"color\":\"green\"},\"mode\":\"markers\",\"name\":\"Denmark\",\"visible\":\"legendonly\",\"x\":[49635.75],\"y\":[72.3],\"type\":\"scatter\"},{\"marker\":{\"color\":\"green\"},\"mode\":\"markers\",\"name\":\"Norway\",\"visible\":\"legendonly\",\"x\":[61492.35],\"y\":[76.0],\"type\":\"scatter\"},{\"marker\":{\"color\":\"green\"},\"mode\":\"markers\",\"name\":\"Barbados\",\"visible\":\"legendonly\",\"x\":[22414.42],\"y\":[76.6],\"type\":\"scatter\"},{\"marker\":{\"color\":\"green\"},\"mode\":\"markers\",\"name\":\"Singapore\",\"visible\":\"legendonly\",\"x\":[69147.5],\"y\":[76.7],\"type\":\"scatter\"},{\"marker\":{\"color\":\"green\"},\"mode\":\"markers\",\"name\":\"Iceland\",\"visible\":\"legendonly\",\"x\":[70370.29],\"y\":[83.0],\"type\":\"scatter\"},{\"marker\":{\"color\":\"green\"},\"mode\":\"markers\",\"name\":\"Bahamas\",\"visible\":\"legendonly\",\"x\":[33809.81],\"y\":[85.0],\"type\":\"scatter\"},{\"marker\":{\"color\":\"green\"},\"mode\":\"markers\",\"name\":\"Switzerland\",\"visible\":\"legendonly\",\"x\":[63222.89],\"y\":[101.1],\"type\":\"scatter\"}],                        {\"template\":{\"data\":{\"histogram2dcontour\":[{\"type\":\"histogram2dcontour\",\"colorbar\":{\"outlinewidth\":0,\"ticks\":\"\"},\"colorscale\":[[0.0,\"#0d0887\"],[0.1111111111111111,\"#46039f\"],[0.2222222222222222,\"#7201a8\"],[0.3333333333333333,\"#9c179e\"],[0.4444444444444444,\"#bd3786\"],[0.5555555555555556,\"#d8576b\"],[0.6666666666666666,\"#ed7953\"],[0.7777777777777778,\"#fb9f3a\"],[0.8888888888888888,\"#fdca26\"],[1.0,\"#f0f921\"]]}],\"choropleth\":[{\"type\":\"choropleth\",\"colorbar\":{\"outlinewidth\":0,\"ticks\":\"\"}}],\"histogram2d\":[{\"type\":\"histogram2d\",\"colorbar\":{\"outlinewidth\":0,\"ticks\":\"\"},\"colorscale\":[[0.0,\"#0d0887\"],[0.1111111111111111,\"#46039f\"],[0.2222222222222222,\"#7201a8\"],[0.3333333333333333,\"#9c179e\"],[0.4444444444444444,\"#bd3786\"],[0.5555555555555556,\"#d8576b\"],[0.6666666666666666,\"#ed7953\"],[0.7777777777777778,\"#fb9f3a\"],[0.8888888888888888,\"#fdca26\"],[1.0,\"#f0f921\"]]}],\"heatmap\":[{\"type\":\"heatmap\",\"colorbar\":{\"outlinewidth\":0,\"ticks\":\"\"},\"colorscale\":[[0.0,\"#0d0887\"],[0.1111111111111111,\"#46039f\"],[0.2222222222222222,\"#7201a8\"],[0.3333333333333333,\"#9c179e\"],[0.4444444444444444,\"#bd3786\"],[0.5555555555555556,\"#d8576b\"],[0.6666666666666666,\"#ed7953\"],[0.7777777777777778,\"#fb9f3a\"],[0.8888888888888888,\"#fdca26\"],[1.0,\"#f0f921\"]]}],\"heatmapgl\":[{\"type\":\"heatmapgl\",\"colorbar\":{\"outlinewidth\":0,\"ticks\":\"\"},\"colorscale\":[[0.0,\"#0d0887\"],[0.1111111111111111,\"#46039f\"],[0.2222222222222222,\"#7201a8\"],[0.3333333333333333,\"#9c179e\"],[0.4444444444444444,\"#bd3786\"],[0.5555555555555556,\"#d8576b\"],[0.6666666666666666,\"#ed7953\"],[0.7777777777777778,\"#fb9f3a\"],[0.8888888888888888,\"#fdca26\"],[1.0,\"#f0f921\"]]}],\"contourcarpet\":[{\"type\":\"contourcarpet\",\"colorbar\":{\"outlinewidth\":0,\"ticks\":\"\"}}],\"contour\":[{\"type\":\"contour\",\"colorbar\":{\"outlinewidth\":0,\"ticks\":\"\"},\"colorscale\":[[0.0,\"#0d0887\"],[0.1111111111111111,\"#46039f\"],[0.2222222222222222,\"#7201a8\"],[0.3333333333333333,\"#9c179e\"],[0.4444444444444444,\"#bd3786\"],[0.5555555555555556,\"#d8576b\"],[0.6666666666666666,\"#ed7953\"],[0.7777777777777778,\"#fb9f3a\"],[0.8888888888888888,\"#fdca26\"],[1.0,\"#f0f921\"]]}],\"surface\":[{\"type\":\"surface\",\"colorbar\":{\"outlinewidth\":0,\"ticks\":\"\"},\"colorscale\":[[0.0,\"#0d0887\"],[0.1111111111111111,\"#46039f\"],[0.2222222222222222,\"#7201a8\"],[0.3333333333333333,\"#9c179e\"],[0.4444444444444444,\"#bd3786\"],[0.5555555555555556,\"#d8576b\"],[0.6666666666666666,\"#ed7953\"],[0.7777777777777778,\"#fb9f3a\"],[0.8888888888888888,\"#fdca26\"],[1.0,\"#f0f921\"]]}],\"mesh3d\":[{\"type\":\"mesh3d\",\"colorbar\":{\"outlinewidth\":0,\"ticks\":\"\"}}],\"scatter\":[{\"fillpattern\":{\"fillmode\":\"overlay\",\"size\":10,\"solidity\":0.2},\"type\":\"scatter\"}],\"parcoords\":[{\"type\":\"parcoords\",\"line\":{\"colorbar\":{\"outlinewidth\":0,\"ticks\":\"\"}}}],\"scatterpolargl\":[{\"type\":\"scatterpolargl\",\"marker\":{\"colorbar\":{\"outlinewidth\":0,\"ticks\":\"\"}}}],\"bar\":[{\"error_x\":{\"color\":\"#2a3f5f\"},\"error_y\":{\"color\":\"#2a3f5f\"},\"marker\":{\"line\":{\"color\":\"#E5ECF6\",\"width\":0.5},\"pattern\":{\"fillmode\":\"overlay\",\"size\":10,\"solidity\":0.2}},\"type\":\"bar\"}],\"scattergeo\":[{\"type\":\"scattergeo\",\"marker\":{\"colorbar\":{\"outlinewidth\":0,\"ticks\":\"\"}}}],\"scatterpolar\":[{\"type\":\"scatterpolar\",\"marker\":{\"colorbar\":{\"outlinewidth\":0,\"ticks\":\"\"}}}],\"histogram\":[{\"marker\":{\"pattern\":{\"fillmode\":\"overlay\",\"size\":10,\"solidity\":0.2}},\"type\":\"histogram\"}],\"scattergl\":[{\"type\":\"scattergl\",\"marker\":{\"colorbar\":{\"outlinewidth\":0,\"ticks\":\"\"}}}],\"scatter3d\":[{\"type\":\"scatter3d\",\"line\":{\"colorbar\":{\"outlinewidth\":0,\"ticks\":\"\"}},\"marker\":{\"colorbar\":{\"outlinewidth\":0,\"ticks\":\"\"}}}],\"scattermapbox\":[{\"type\":\"scattermapbox\",\"marker\":{\"colorbar\":{\"outlinewidth\":0,\"ticks\":\"\"}}}],\"scatterternary\":[{\"type\":\"scatterternary\",\"marker\":{\"colorbar\":{\"outlinewidth\":0,\"ticks\":\"\"}}}],\"scattercarpet\":[{\"type\":\"scattercarpet\",\"marker\":{\"colorbar\":{\"outlinewidth\":0,\"ticks\":\"\"}}}],\"carpet\":[{\"aaxis\":{\"endlinecolor\":\"#2a3f5f\",\"gridcolor\":\"white\",\"linecolor\":\"white\",\"minorgridcolor\":\"white\",\"startlinecolor\":\"#2a3f5f\"},\"baxis\":{\"endlinecolor\":\"#2a3f5f\",\"gridcolor\":\"white\",\"linecolor\":\"white\",\"minorgridcolor\":\"white\",\"startlinecolor\":\"#2a3f5f\"},\"type\":\"carpet\"}],\"table\":[{\"cells\":{\"fill\":{\"color\":\"#EBF0F8\"},\"line\":{\"color\":\"white\"}},\"header\":{\"fill\":{\"color\":\"#C8D4E3\"},\"line\":{\"color\":\"white\"}},\"type\":\"table\"}],\"barpolar\":[{\"marker\":{\"line\":{\"color\":\"#E5ECF6\",\"width\":0.5},\"pattern\":{\"fillmode\":\"overlay\",\"size\":10,\"solidity\":0.2}},\"type\":\"barpolar\"}],\"pie\":[{\"automargin\":true,\"type\":\"pie\"}]},\"layout\":{\"autotypenumbers\":\"strict\",\"colorway\":[\"#636efa\",\"#EF553B\",\"#00cc96\",\"#ab63fa\",\"#FFA15A\",\"#19d3f3\",\"#FF6692\",\"#B6E880\",\"#FF97FF\",\"#FECB52\"],\"font\":{\"color\":\"#2a3f5f\"},\"hovermode\":\"closest\",\"hoverlabel\":{\"align\":\"left\"},\"paper_bgcolor\":\"white\",\"plot_bgcolor\":\"#E5ECF6\",\"polar\":{\"bgcolor\":\"#E5ECF6\",\"angularaxis\":{\"gridcolor\":\"white\",\"linecolor\":\"white\",\"ticks\":\"\"},\"radialaxis\":{\"gridcolor\":\"white\",\"linecolor\":\"white\",\"ticks\":\"\"}},\"ternary\":{\"bgcolor\":\"#E5ECF6\",\"aaxis\":{\"gridcolor\":\"white\",\"linecolor\":\"white\",\"ticks\":\"\"},\"baxis\":{\"gridcolor\":\"white\",\"linecolor\":\"white\",\"ticks\":\"\"},\"caxis\":{\"gridcolor\":\"white\",\"linecolor\":\"white\",\"ticks\":\"\"}},\"coloraxis\":{\"colorbar\":{\"outlinewidth\":0,\"ticks\":\"\"}},\"colorscale\":{\"sequential\":[[0.0,\"#0d0887\"],[0.1111111111111111,\"#46039f\"],[0.2222222222222222,\"#7201a8\"],[0.3333333333333333,\"#9c179e\"],[0.4444444444444444,\"#bd3786\"],[0.5555555555555556,\"#d8576b\"],[0.6666666666666666,\"#ed7953\"],[0.7777777777777778,\"#fb9f3a\"],[0.8888888888888888,\"#fdca26\"],[1.0,\"#f0f921\"]],\"sequentialminus\":[[0.0,\"#0d0887\"],[0.1111111111111111,\"#46039f\"],[0.2222222222222222,\"#7201a8\"],[0.3333333333333333,\"#9c179e\"],[0.4444444444444444,\"#bd3786\"],[0.5555555555555556,\"#d8576b\"],[0.6666666666666666,\"#ed7953\"],[0.7777777777777778,\"#fb9f3a\"],[0.8888888888888888,\"#fdca26\"],[1.0,\"#f0f921\"]],\"diverging\":[[0,\"#8e0152\"],[0.1,\"#c51b7d\"],[0.2,\"#de77ae\"],[0.3,\"#f1b6da\"],[0.4,\"#fde0ef\"],[0.5,\"#f7f7f7\"],[0.6,\"#e6f5d0\"],[0.7,\"#b8e186\"],[0.8,\"#7fbc41\"],[0.9,\"#4d9221\"],[1,\"#276419\"]]},\"xaxis\":{\"gridcolor\":\"white\",\"linecolor\":\"white\",\"ticks\":\"\",\"title\":{\"standoff\":15},\"zerolinecolor\":\"white\",\"automargin\":true,\"zerolinewidth\":2},\"yaxis\":{\"gridcolor\":\"white\",\"linecolor\":\"white\",\"ticks\":\"\",\"title\":{\"standoff\":15},\"zerolinecolor\":\"white\",\"automargin\":true,\"zerolinewidth\":2},\"scene\":{\"xaxis\":{\"backgroundcolor\":\"#E5ECF6\",\"gridcolor\":\"white\",\"linecolor\":\"white\",\"showbackground\":true,\"ticks\":\"\",\"zerolinecolor\":\"white\",\"gridwidth\":2},\"yaxis\":{\"backgroundcolor\":\"#E5ECF6\",\"gridcolor\":\"white\",\"linecolor\":\"white\",\"showbackground\":true,\"ticks\":\"\",\"zerolinecolor\":\"white\",\"gridwidth\":2},\"zaxis\":{\"backgroundcolor\":\"#E5ECF6\",\"gridcolor\":\"white\",\"linecolor\":\"white\",\"showbackground\":true,\"ticks\":\"\",\"zerolinecolor\":\"white\",\"gridwidth\":2}},\"shapedefaults\":{\"line\":{\"color\":\"#2a3f5f\"}},\"annotationdefaults\":{\"arrowcolor\":\"#2a3f5f\",\"arrowhead\":0,\"arrowwidth\":1},\"geo\":{\"bgcolor\":\"white\",\"landcolor\":\"#E5ECF6\",\"subunitcolor\":\"white\",\"showland\":true,\"showlakes\":true,\"lakecolor\":\"white\"},\"title\":{\"x\":0.05},\"mapbox\":{\"style\":\"light\"}}},\"title\":{\"text\":\"Do people in Countries with Higher Cost of Living Make More Money?\",\"x\":0.5,\"xanchor\":\"center\"},\"updatemenus\":[{\"active\":0,\"buttons\":[{\"args\":[{\"visible\":[true,true,true,true,true,true,true,true,true,true,true,true,true,true,true,true,true,true,true,true,true,true,true,true,true,true,true,true,true,true,true,true,true,true,true,true,true,true,true,true,true,true,true,true,true,true,true,true,true,true,true,true,true,true,true,true,true,true,true,true,true,true,true,true,true,true,true,true,true,true,true,true,true,true,true,true,true,true,true,true,true,true,true,true,true,true,true,true,true,true,true,true,true,true,true,true,true,true,true,true,true,true,true,true,true,true,true,true]},{\"title\":\"Do people in Countries with Higher Cost of Living Make More Money?\"}],\"label\":\"All\",\"method\":\"update\"},{\"args\":[{\"visible\":[true,false,false,false,false,false,false,false,false,false,false,false,false,false,false,false,false,false,false,false,false,false,false,false,false,false,false,false,false,false,false,false,false,false,false,false,false,false,false,false,false,false,false,false,false,false,false,false,false,false,false,false,false,false,false,false,false,false,false,false,false,false,false,false,false,false,false,false,false,false,false,false,false,false,false,false,false,false,false,false,false,false,false,false,false,false,false,false,false,false,false,false,false,false,false,false,false,false,false,false,false,false,false,false,false,false,false,false]},{\"title\":\"Scatter Plot - Pakistan\"}],\"label\":\"Pakistan\",\"method\":\"update\"},{\"args\":[{\"visible\":[false,true,false,false,false,false,false,false,false,false,false,false,false,false,false,false,false,false,false,false,false,false,false,false,false,false,false,false,false,false,false,false,false,false,false,false,false,false,false,false,false,false,false,false,false,false,false,false,false,false,false,false,false,false,false,false,false,false,false,false,false,false,false,false,false,false,false,false,false,false,false,false,false,false,false,false,false,false,false,false,false,false,false,false,false,false,false,false,false,false,false,false,false,false,false,false,false,false,false,false,false,false,false,false,false,false,false,false]},{\"title\":\"Scatter Plot - Egypt\"}],\"label\":\"Egypt\",\"method\":\"update\"},{\"args\":[{\"visible\":[false,false,true,false,false,false,false,false,false,false,false,false,false,false,false,false,false,false,false,false,false,false,false,false,false,false,false,false,false,false,false,false,false,false,false,false,false,false,false,false,false,false,false,false,false,false,false,false,false,false,false,false,false,false,false,false,false,false,false,false,false,false,false,false,false,false,false,false,false,false,false,false,false,false,false,false,false,false,false,false,false,false,false,false,false,false,false,false,false,false,false,false,false,false,false,false,false,false,false,false,false,false,false,false,false,false,false,false]},{\"title\":\"Scatter Plot - India\"}],\"label\":\"India\",\"method\":\"update\"},{\"args\":[{\"visible\":[false,false,false,true,false,false,false,false,false,false,false,false,false,false,false,false,false,false,false,false,false,false,false,false,false,false,false,false,false,false,false,false,false,false,false,false,false,false,false,false,false,false,false,false,false,false,false,false,false,false,false,false,false,false,false,false,false,false,false,false,false,false,false,false,false,false,false,false,false,false,false,false,false,false,false,false,false,false,false,false,false,false,false,false,false,false,false,false,false,false,false,false,false,false,false,false,false,false,false,false,false,false,false,false,false,false,false,false]},{\"title\":\"Scatter Plot - Bangladesh\"}],\"label\":\"Bangladesh\",\"method\":\"update\"},{\"args\":[{\"visible\":[false,false,false,false,true,false,false,false,false,false,false,false,false,false,false,false,false,false,false,false,false,false,false,false,false,false,false,false,false,false,false,false,false,false,false,false,false,false,false,false,false,false,false,false,false,false,false,false,false,false,false,false,false,false,false,false,false,false,false,false,false,false,false,false,false,false,false,false,false,false,false,false,false,false,false,false,false,false,false,false,false,false,false,false,false,false,false,false,false,false,false,false,false,false,false,false,false,false,false,false,false,false,false,false,false,false,false,false]},{\"title\":\"Scatter Plot - Tanzania\"}],\"label\":\"Tanzania\",\"method\":\"update\"},{\"args\":[{\"visible\":[false,false,false,false,false,true,false,false,false,false,false,false,false,false,false,false,false,false,false,false,false,false,false,false,false,false,false,false,false,false,false,false,false,false,false,false,false,false,false,false,false,false,false,false,false,false,false,false,false,false,false,false,false,false,false,false,false,false,false,false,false,false,false,false,false,false,false,false,false,false,false,false,false,false,false,false,false,false,false,false,false,false,false,false,false,false,false,false,false,false,false,false,false,false,false,false,false,false,false,false,false,false,false,false,false,false,false,false]},{\"title\":\"Scatter Plot - Syria\"}],\"label\":\"Syria\",\"method\":\"update\"},{\"args\":[{\"visible\":[false,false,false,false,false,false,true,false,false,false,false,false,false,false,false,false,false,false,false,false,false,false,false,false,false,false,false,false,false,false,false,false,false,false,false,false,false,false,false,false,false,false,false,false,false,false,false,false,false,false,false,false,false,false,false,false,false,false,false,false,false,false,false,false,false,false,false,false,false,false,false,false,false,false,false,false,false,false,false,false,false,false,false,false,false,false,false,false,false,false,false,false,false,false,false,false,false,false,false,false,false,false,false,false,false,false,false,false]},{\"title\":\"Scatter Plot - Paraguay\"}],\"label\":\"Paraguay\",\"method\":\"update\"},{\"args\":[{\"visible\":[false,false,false,false,false,false,false,true,false,false,false,false,false,false,false,false,false,false,false,false,false,false,false,false,false,false,false,false,false,false,false,false,false,false,false,false,false,false,false,false,false,false,false,false,false,false,false,false,false,false,false,false,false,false,false,false,false,false,false,false,false,false,false,false,false,false,false,false,false,false,false,false,false,false,false,false,false,false,false,false,false,false,false,false,false,false,false,false,false,false,false,false,false,false,false,false,false,false,false,false,false,false,false,false,false,false,false,false]},{\"title\":\"Scatter Plot - Nepal\"}],\"label\":\"Nepal\",\"method\":\"update\"},{\"args\":[{\"visible\":[false,false,false,false,false,false,false,false,true,false,false,false,false,false,false,false,false,false,false,false,false,false,false,false,false,false,false,false,false,false,false,false,false,false,false,false,false,false,false,false,false,false,false,false,false,false,false,false,false,false,false,false,false,false,false,false,false,false,false,false,false,false,false,false,false,false,false,false,false,false,false,false,false,false,false,false,false,false,false,false,false,false,false,false,false,false,false,false,false,false,false,false,false,false,false,false,false,false,false,false,false,false,false,false,false,false,false,false]},{\"title\":\"Scatter Plot - Ukraine\"}],\"label\":\"Ukraine\",\"method\":\"update\"},{\"args\":[{\"visible\":[false,false,false,false,false,false,false,false,false,true,false,false,false,false,false,false,false,false,false,false,false,false,false,false,false,false,false,false,false,false,false,false,false,false,false,false,false,false,false,false,false,false,false,false,false,false,false,false,false,false,false,false,false,false,false,false,false,false,false,false,false,false,false,false,false,false,false,false,false,false,false,false,false,false,false,false,false,false,false,false,false,false,false,false,false,false,false,false,false,false,false,false,false,false,false,false,false,false,false,false,false,false,false,false,false,false,false,false]},{\"title\":\"Scatter Plot - Belarus\"}],\"label\":\"Belarus\",\"method\":\"update\"},{\"args\":[{\"visible\":[false,false,false,false,false,false,false,false,false,false,true,false,false,false,false,false,false,false,false,false,false,false,false,false,false,false,false,false,false,false,false,false,false,false,false,false,false,false,false,false,false,false,false,false,false,false,false,false,false,false,false,false,false,false,false,false,false,false,false,false,false,false,false,false,false,false,false,false,false,false,false,false,false,false,false,false,false,false,false,false,false,false,false,false,false,false,false,false,false,false,false,false,false,false,false,false,false,false,false,false,false,false,false,false,false,false,false,false]},{\"title\":\"Scatter Plot - Iran\"}],\"label\":\"Iran\",\"method\":\"update\"},{\"args\":[{\"visible\":[false,false,false,false,false,false,false,false,false,false,false,true,false,false,false,false,false,false,false,false,false,false,false,false,false,false,false,false,false,false,false,false,false,false,false,false,false,false,false,false,false,false,false,false,false,false,false,false,false,false,false,false,false,false,false,false,false,false,false,false,false,false,false,false,false,false,false,false,false,false,false,false,false,false,false,false,false,false,false,false,false,false,false,false,false,false,false,false,false,false,false,false,false,false,false,false,false,false,false,false,false,false,false,false,false,false,false,false]},{\"title\":\"Scatter Plot - Uzbekistan\"}],\"label\":\"Uzbekistan\",\"method\":\"update\"},{\"args\":[{\"visible\":[false,false,false,false,false,false,false,false,false,false,false,false,true,false,false,false,false,false,false,false,false,false,false,false,false,false,false,false,false,false,false,false,false,false,false,false,false,false,false,false,false,false,false,false,false,false,false,false,false,false,false,false,false,false,false,false,false,false,false,false,false,false,false,false,false,false,false,false,false,false,false,false,false,false,false,false,false,false,false,false,false,false,false,false,false,false,false,false,false,false,false,false,false,false,false,false,false,false,false,false,false,false,false,false,false,false,false,false]},{\"title\":\"Scatter Plot - Indonesia\"}],\"label\":\"Indonesia\",\"method\":\"update\"},{\"args\":[{\"visible\":[false,false,false,false,false,false,false,false,false,false,false,false,false,true,false,false,false,false,false,false,false,false,false,false,false,false,false,false,false,false,false,false,false,false,false,false,false,false,false,false,false,false,false,false,false,false,false,false,false,false,false,false,false,false,false,false,false,false,false,false,false,false,false,false,false,false,false,false,false,false,false,false,false,false,false,false,false,false,false,false,false,false,false,false,false,false,false,false,false,false,false,false,false,false,false,false,false,false,false,false,false,false,false,false,false,false,false,false]},{\"title\":\"Scatter Plot - Kyrgyzstan\"}],\"label\":\"Kyrgyzstan\",\"method\":\"update\"},{\"args\":[{\"visible\":[false,false,false,false,false,false,false,false,false,false,false,false,false,false,true,false,false,false,false,false,false,false,false,false,false,false,false,false,false,false,false,false,false,false,false,false,false,false,false,false,false,false,false,false,false,false,false,false,false,false,false,false,false,false,false,false,false,false,false,false,false,false,false,false,false,false,false,false,false,false,false,false,false,false,false,false,false,false,false,false,false,false,false,false,false,false,false,false,false,false,false,false,false,false,false,false,false,false,false,false,false,false,false,false,false,false,false,false]},{\"title\":\"Scatter Plot - Tunisia\"}],\"label\":\"Tunisia\",\"method\":\"update\"},{\"args\":[{\"visible\":[false,false,false,false,false,false,false,false,false,false,false,false,false,false,false,true,false,false,false,false,false,false,false,false,false,false,false,false,false,false,false,false,false,false,false,false,false,false,false,false,false,false,false,false,false,false,false,false,false,false,false,false,false,false,false,false,false,false,false,false,false,false,false,false,false,false,false,false,false,false,false,false,false,false,false,false,false,false,false,false,false,false,false,false,false,false,false,false,false,false,false,false,false,false,false,false,false,false,false,false,false,false,false,false,false,false,false,false]},{\"title\":\"Scatter Plot - Vietnam\"}],\"label\":\"Vietnam\",\"method\":\"update\"},{\"args\":[{\"visible\":[false,false,false,false,false,false,false,false,false,false,false,false,false,false,false,false,true,false,false,false,false,false,false,false,false,false,false,false,false,false,false,false,false,false,false,false,false,false,false,false,false,false,false,false,false,false,false,false,false,false,false,false,false,false,false,false,false,false,false,false,false,false,false,false,false,false,false,false,false,false,false,false,false,false,false,false,false,false,false,false,false,false,false,false,false,false,false,false,false,false,false,false,false,false,false,false,false,false,false,false,false,false,false,false,false,false,false,false]},{\"title\":\"Scatter Plot - Colombia\"}],\"label\":\"Colombia\",\"method\":\"update\"},{\"args\":[{\"visible\":[false,false,false,false,false,false,false,false,false,false,false,false,false,false,false,false,false,true,false,false,false,false,false,false,false,false,false,false,false,false,false,false,false,false,false,false,false,false,false,false,false,false,false,false,false,false,false,false,false,false,false,false,false,false,false,false,false,false,false,false,false,false,false,false,false,false,false,false,false,false,false,false,false,false,false,false,false,false,false,false,false,false,false,false,false,false,false,false,false,false,false,false,false,false,false,false,false,false,false,false,false,false,false,false,false,false,false,false]},{\"title\":\"Scatter Plot - Algeria\"}],\"label\":\"Algeria\",\"method\":\"update\"},{\"args\":[{\"visible\":[false,false,false,false,false,false,false,false,false,false,false,false,false,false,false,false,false,false,true,false,false,false,false,false,false,false,false,false,false,false,false,false,false,false,false,false,false,false,false,false,false,false,false,false,false,false,false,false,false,false,false,false,false,false,false,false,false,false,false,false,false,false,false,false,false,false,false,false,false,false,false,false,false,false,false,false,false,false,false,false,false,false,false,false,false,false,false,false,false,false,false,false,false,false,false,false,false,false,false,false,false,false,false,false,false,false,false,false]},{\"title\":\"Scatter Plot - Uganda\"}],\"label\":\"Uganda\",\"method\":\"update\"},{\"args\":[{\"visible\":[false,false,false,false,false,false,false,false,false,false,false,false,false,false,false,false,false,false,false,true,false,false,false,false,false,false,false,false,false,false,false,false,false,false,false,false,false,false,false,false,false,false,false,false,false,false,false,false,false,false,false,false,false,false,false,false,false,false,false,false,false,false,false,false,false,false,false,false,false,false,false,false,false,false,false,false,false,false,false,false,false,false,false,false,false,false,false,false,false,false,false,false,false,false,false,false,false,false,false,false,false,false,false,false,false,false,false,false]},{\"title\":\"Scatter Plot - Iraq\"}],\"label\":\"Iraq\",\"method\":\"update\"},{\"args\":[{\"visible\":[false,false,false,false,false,false,false,false,false,false,false,false,false,false,false,false,false,false,false,false,true,false,false,false,false,false,false,false,false,false,false,false,false,false,false,false,false,false,false,false,false,false,false,false,false,false,false,false,false,false,false,false,false,false,false,false,false,false,false,false,false,false,false,false,false,false,false,false,false,false,false,false,false,false,false,false,false,false,false,false,false,false,false,false,false,false,false,false,false,false,false,false,false,false,false,false,false,false,false,false,false,false,false,false,false,false,false,false]},{\"title\":\"Scatter Plot - Argentina\"}],\"label\":\"Argentina\",\"method\":\"update\"},{\"args\":[{\"visible\":[false,false,false,false,false,false,false,false,false,false,false,false,false,false,false,false,false,false,false,false,false,true,false,false,false,false,false,false,false,false,false,false,false,false,false,false,false,false,false,false,false,false,false,false,false,false,false,false,false,false,false,false,false,false,false,false,false,false,false,false,false,false,false,false,false,false,false,false,false,false,false,false,false,false,false,false,false,false,false,false,false,false,false,false,false,false,false,false,false,false,false,false,false,false,false,false,false,false,false,false,false,false,false,false,false,false,false,false]},{\"title\":\"Scatter Plot - Morocco\"}],\"label\":\"Morocco\",\"method\":\"update\"},{\"args\":[{\"visible\":[false,false,false,false,false,false,false,false,false,false,false,false,false,false,false,false,false,false,false,false,false,false,true,false,false,false,false,false,false,false,false,false,false,false,false,false,false,false,false,false,false,false,false,false,false,false,false,false,false,false,false,false,false,false,false,false,false,false,false,false,false,false,false,false,false,false,false,false,false,false,false,false,false,false,false,false,false,false,false,false,false,false,false,false,false,false,false,false,false,false,false,false,false,false,false,false,false,false,false,false,false,false,false,false,false,false,false,false]},{\"title\":\"Scatter Plot - Malaysia\"}],\"label\":\"Malaysia\",\"method\":\"update\"},{\"args\":[{\"visible\":[false,false,false,false,false,false,false,false,false,false,false,false,false,false,false,false,false,false,false,false,false,false,false,true,false,false,false,false,false,false,false,false,false,false,false,false,false,false,false,false,false,false,false,false,false,false,false,false,false,false,false,false,false,false,false,false,false,false,false,false,false,false,false,false,false,false,false,false,false,false,false,false,false,false,false,false,false,false,false,false,false,false,false,false,false,false,false,false,false,false,false,false,false,false,false,false,false,false,false,false,false,false,false,false,false,false,false,false]},{\"title\":\"Scatter Plot - Peru\"}],\"label\":\"Peru\",\"method\":\"update\"},{\"args\":[{\"visible\":[false,false,false,false,false,false,false,false,false,false,false,false,false,false,false,false,false,false,false,false,false,false,false,false,true,false,false,false,false,false,false,false,false,false,false,false,false,false,false,false,false,false,false,false,false,false,false,false,false,false,false,false,false,false,false,false,false,false,false,false,false,false,false,false,false,false,false,false,false,false,false,false,false,false,false,false,false,false,false,false,false,false,false,false,false,false,false,false,false,false,false,false,false,false,false,false,false,false,false,false,false,false,false,false,false,false,false,false]},{\"title\":\"Scatter Plot - Brazil\"}],\"label\":\"Brazil\",\"method\":\"update\"},{\"args\":[{\"visible\":[false,false,false,false,false,false,false,false,false,false,false,false,false,false,false,false,false,false,false,false,false,false,false,false,false,true,false,false,false,false,false,false,false,false,false,false,false,false,false,false,false,false,false,false,false,false,false,false,false,false,false,false,false,false,false,false,false,false,false,false,false,false,false,false,false,false,false,false,false,false,false,false,false,false,false,false,false,false,false,false,false,false,false,false,false,false,false,false,false,false,false,false,false,false,false,false,false,false,false,false,false,false,false,false,false,false,false,false]},{\"title\":\"Scatter Plot - Kenya\"}],\"label\":\"Kenya\",\"method\":\"update\"},{\"args\":[{\"visible\":[false,false,false,false,false,false,false,false,false,false,false,false,false,false,false,false,false,false,false,false,false,false,false,false,false,false,true,false,false,false,false,false,false,false,false,false,false,false,false,false,false,false,false,false,false,false,false,false,false,false,false,false,false,false,false,false,false,false,false,false,false,false,false,false,false,false,false,false,false,false,false,false,false,false,false,false,false,false,false,false,false,false,false,false,false,false,false,false,false,false,false,false,false,false,false,false,false,false,false,false,false,false,false,false,false,false,false,false]},{\"title\":\"Scatter Plot - Ghana\"}],\"label\":\"Ghana\",\"method\":\"update\"},{\"args\":[{\"visible\":[false,false,false,false,false,false,false,false,false,false,false,false,false,false,false,false,false,false,false,false,false,false,false,false,false,false,false,true,false,false,false,false,false,false,false,false,false,false,false,false,false,false,false,false,false,false,false,false,false,false,false,false,false,false,false,false,false,false,false,false,false,false,false,false,false,false,false,false,false,false,false,false,false,false,false,false,false,false,false,false,false,false,false,false,false,false,false,false,false,false,false,false,false,false,false,false,false,false,false,false,false,false,false,false,false,false,false,false]},{\"title\":\"Scatter Plot - Russia\"}],\"label\":\"Russia\",\"method\":\"update\"},{\"args\":[{\"visible\":[false,false,false,false,false,false,false,false,false,false,false,false,false,false,false,false,false,false,false,false,false,false,false,false,false,false,false,false,true,false,false,false,false,false,false,false,false,false,false,false,false,false,false,false,false,false,false,false,false,false,false,false,false,false,false,false,false,false,false,false,false,false,false,false,false,false,false,false,false,false,false,false,false,false,false,false,false,false,false,false,false,false,false,false,false,false,false,false,false,false,false,false,false,false,false,false,false,false,false,false,false,false,false,false,false,false,false,false]},{\"title\":\"Scatter Plot - Philippines\"}],\"label\":\"Philippines\",\"method\":\"update\"},{\"args\":[{\"visible\":[false,false,false,false,false,false,false,false,false,false,false,false,false,false,false,false,false,false,false,false,false,false,false,false,false,false,false,false,false,true,false,false,false,false,false,false,false,false,false,false,false,false,false,false,false,false,false,false,false,false,false,false,false,false,false,false,false,false,false,false,false,false,false,false,false,false,false,false,false,false,false,false,false,false,false,false,false,false,false,false,false,false,false,false,false,false,false,false,false,false,false,false,false,false,false,false,false,false,false,false,false,false,false,false,false,false,false,false]},{\"title\":\"Scatter Plot - Azerbaijan\"}],\"label\":\"Azerbaijan\",\"method\":\"update\"},{\"args\":[{\"visible\":[false,false,false,false,false,false,false,false,false,false,false,false,false,false,false,false,false,false,false,false,false,false,false,false,false,false,false,false,false,false,true,false,false,false,false,false,false,false,false,false,false,false,false,false,false,false,false,false,false,false,false,false,false,false,false,false,false,false,false,false,false,false,false,false,false,false,false,false,false,false,false,false,false,false,false,false,false,false,false,false,false,false,false,false,false,false,false,false,false,false,false,false,false,false,false,false,false,false,false,false,false,false,false,false,false,false,false,false]},{\"title\":\"Scatter Plot - Nigeria\"}],\"label\":\"Nigeria\",\"method\":\"update\"},{\"args\":[{\"visible\":[false,false,false,false,false,false,false,false,false,false,false,false,false,false,false,false,false,false,false,false,false,false,false,false,false,false,false,false,false,false,false,true,false,false,false,false,false,false,false,false,false,false,false,false,false,false,false,false,false,false,false,false,false,false,false,false,false,false,false,false,false,false,false,false,false,false,false,false,false,false,false,false,false,false,false,false,false,false,false,false,false,false,false,false,false,false,false,false,false,false,false,false,false,false,false,false,false,false,false,false,false,false,false,false,false,false,false,false]},{\"title\":\"Scatter Plot - Kazakhstan\"}],\"label\":\"Kazakhstan\",\"method\":\"update\"},{\"args\":[{\"visible\":[false,false,false,false,false,false,false,false,false,false,false,false,false,false,false,false,false,false,false,false,false,false,false,false,false,false,false,false,false,false,false,false,true,false,false,false,false,false,false,false,false,false,false,false,false,false,false,false,false,false,false,false,false,false,false,false,false,false,false,false,false,false,false,false,false,false,false,false,false,false,false,false,false,false,false,false,false,false,false,false,false,false,false,false,false,false,false,false,false,false,false,false,false,false,false,false,false,false,false,false,false,false,false,false,false,false,false,false]},{\"title\":\"Scatter Plot - China\"}],\"label\":\"China\",\"method\":\"update\"},{\"args\":[{\"visible\":[false,false,false,false,false,false,false,false,false,false,false,false,false,false,false,false,false,false,false,false,false,false,false,false,false,false,false,false,false,false,false,false,false,true,false,false,false,false,false,false,false,false,false,false,false,false,false,false,false,false,false,false,false,false,false,false,false,false,false,false,false,false,false,false,false,false,false,false,false,false,false,false,false,false,false,false,false,false,false,false,false,false,false,false,false,false,false,false,false,false,false,false,false,false,false,false,false,false,false,false,false,false,false,false,false,false,false,false]},{\"title\":\"Scatter Plot - Ecuador\"}],\"label\":\"Ecuador\",\"method\":\"update\"},{\"args\":[{\"visible\":[false,false,false,false,false,false,false,false,false,false,false,false,false,false,false,false,false,false,false,false,false,false,false,false,false,false,false,false,false,false,false,false,false,false,true,false,false,false,false,false,false,false,false,false,false,false,false,false,false,false,false,false,false,false,false,false,false,false,false,false,false,false,false,false,false,false,false,false,false,false,false,false,false,false,false,false,false,false,false,false,false,false,false,false,false,false,false,false,false,false,false,false,false,false,false,false,false,false,false,false,false,false,false,false,false,false,false,false]},{\"title\":\"Scatter Plot - North Macedonia\"}],\"label\":\"North Macedonia\",\"method\":\"update\"},{\"args\":[{\"visible\":[false,false,false,false,false,false,false,false,false,false,false,false,false,false,false,false,false,false,false,false,false,false,false,false,false,false,false,false,false,false,false,false,false,false,false,true,false,false,false,false,false,false,false,false,false,false,false,false,false,false,false,false,false,false,false,false,false,false,false,false,false,false,false,false,false,false,false,false,false,false,false,false,false,false,false,false,false,false,false,false,false,false,false,false,false,false,false,false,false,false,false,false,false,false,false,false,false,false,false,false,false,false,false,false,false,false,false,false]},{\"title\":\"Scatter Plot - Georgia\"}],\"label\":\"Georgia\",\"method\":\"update\"},{\"args\":[{\"visible\":[false,false,false,false,false,false,false,false,false,false,false,false,false,false,false,false,false,false,false,false,false,false,false,false,false,false,false,false,false,false,false,false,false,false,false,false,true,false,false,false,false,false,false,false,false,false,false,false,false,false,false,false,false,false,false,false,false,false,false,false,false,false,false,false,false,false,false,false,false,false,false,false,false,false,false,false,false,false,false,false,false,false,false,false,false,false,false,false,false,false,false,false,false,false,false,false,false,false,false,false,false,false,false,false,false,false,false,false]},{\"title\":\"Scatter Plot - Moldova\"}],\"label\":\"Moldova\",\"method\":\"update\"},{\"args\":[{\"visible\":[false,false,false,false,false,false,false,false,false,false,false,false,false,false,false,false,false,false,false,false,false,false,false,false,false,false,false,false,false,false,false,false,false,false,false,false,false,true,false,false,false,false,false,false,false,false,false,false,false,false,false,false,false,false,false,false,false,false,false,false,false,false,false,false,false,false,false,false,false,false,false,false,false,false,false,false,false,false,false,false,false,false,false,false,false,false,false,false,false,false,false,false,false,false,false,false,false,false,false,false,false,false,false,false,false,false,false,false]},{\"title\":\"Scatter Plot - Thailand\"}],\"label\":\"Thailand\",\"method\":\"update\"},{\"args\":[{\"visible\":[false,false,false,false,false,false,false,false,false,false,false,false,false,false,false,false,false,false,false,false,false,false,false,false,false,false,false,false,false,false,false,false,false,false,false,false,false,false,true,false,false,false,false,false,false,false,false,false,false,false,false,false,false,false,false,false,false,false,false,false,false,false,false,false,false,false,false,false,false,false,false,false,false,false,false,false,false,false,false,false,false,false,false,false,false,false,false,false,false,false,false,false,false,false,false,false,false,false,false,false,false,false,false,false,false,false,false,false]},{\"title\":\"Scatter Plot - South Africa\"}],\"label\":\"South Africa\",\"method\":\"update\"},{\"args\":[{\"visible\":[false,false,false,false,false,false,false,false,false,false,false,false,false,false,false,false,false,false,false,false,false,false,false,false,false,false,false,false,false,false,false,false,false,false,false,false,false,false,false,true,false,false,false,false,false,false,false,false,false,false,false,false,false,false,false,false,false,false,false,false,false,false,false,false,false,false,false,false,false,false,false,false,false,false,false,false,false,false,false,false,false,false,false,false,false,false,false,false,false,false,false,false,false,false,false,false,false,false,false,false,false,false,false,false,false,false,false,false]},{\"title\":\"Scatter Plot - Sri Lanka\"}],\"label\":\"Sri Lanka\",\"method\":\"update\"},{\"args\":[{\"visible\":[false,false,false,false,false,false,false,false,false,false,false,false,false,false,false,false,false,false,false,false,false,false,false,false,false,false,false,false,false,false,false,false,false,false,false,false,false,false,false,false,true,false,false,false,false,false,false,false,false,false,false,false,false,false,false,false,false,false,false,false,false,false,false,false,false,false,false,false,false,false,false,false,false,false,false,false,false,false,false,false,false,false,false,false,false,false,false,false,false,false,false,false,false,false,false,false,false,false,false,false,false,false,false,false,false,false,false,false]},{\"title\":\"Scatter Plot - Mauritius\"}],\"label\":\"Mauritius\",\"method\":\"update\"},{\"args\":[{\"visible\":[false,false,false,false,false,false,false,false,false,false,false,false,false,false,false,false,false,false,false,false,false,false,false,false,false,false,false,false,false,false,false,false,false,false,false,false,false,false,false,false,false,true,false,false,false,false,false,false,false,false,false,false,false,false,false,false,false,false,false,false,false,false,false,false,false,false,false,false,false,false,false,false,false,false,false,false,false,false,false,false,false,false,false,false,false,false,false,false,false,false,false,false,false,false,false,false,false,false,false,false,false,false,false,false,false,false,false,false]},{\"title\":\"Scatter Plot - Zimbabwe\"}],\"label\":\"Zimbabwe\",\"method\":\"update\"},{\"args\":[{\"visible\":[false,false,false,false,false,false,false,false,false,false,false,false,false,false,false,false,false,false,false,false,false,false,false,false,false,false,false,false,false,false,false,false,false,false,false,false,false,false,false,false,false,false,true,false,false,false,false,false,false,false,false,false,false,false,false,false,false,false,false,false,false,false,false,false,false,false,false,false,false,false,false,false,false,false,false,false,false,false,false,false,false,false,false,false,false,false,false,false,false,false,false,false,false,false,false,false,false,false,false,false,false,false,false,false,false,false,false,false]},{\"title\":\"Scatter Plot - Cameroon\"}],\"label\":\"Cameroon\",\"method\":\"update\"},{\"args\":[{\"visible\":[false,false,false,false,false,false,false,false,false,false,false,false,false,false,false,false,false,false,false,false,false,false,false,false,false,false,false,false,false,false,false,false,false,false,false,false,false,false,false,false,false,false,false,true,false,false,false,false,false,false,false,false,false,false,false,false,false,false,false,false,false,false,false,false,false,false,false,false,false,false,false,false,false,false,false,false,false,false,false,false,false,false,false,false,false,false,false,false,false,false,false,false,false,false,false,false,false,false,false,false,false,false,false,false,false,false,false,false]},{\"title\":\"Scatter Plot - Cambodia\"}],\"label\":\"Cambodia\",\"method\":\"update\"},{\"args\":[{\"visible\":[false,false,false,false,false,false,false,false,false,false,false,false,false,false,false,false,false,false,false,false,false,false,false,false,false,false,false,false,false,false,false,false,false,false,false,false,false,false,false,false,false,false,false,false,true,false,false,false,false,false,false,false,false,false,false,false,false,false,false,false,false,false,false,false,false,false,false,false,false,false,false,false,false,false,false,false,false,false,false,false,false,false,false,false,false,false,false,false,false,false,false,false,false,false,false,false,false,false,false,false,false,false,false,false,false,false,false,false]},{\"title\":\"Scatter Plot - Turkey\"}],\"label\":\"Turkey\",\"method\":\"update\"},{\"args\":[{\"visible\":[false,false,false,false,false,false,false,false,false,false,false,false,false,false,false,false,false,false,false,false,false,false,false,false,false,false,false,false,false,false,false,false,false,false,false,false,false,false,false,false,false,false,false,false,false,true,false,false,false,false,false,false,false,false,false,false,false,false,false,false,false,false,false,false,false,false,false,false,false,false,false,false,false,false,false,false,false,false,false,false,false,false,false,false,false,false,false,false,false,false,false,false,false,false,false,false,false,false,false,false,false,false,false,false,false,false,false,false]},{\"title\":\"Scatter Plot - Romania\"}],\"label\":\"Romania\",\"method\":\"update\"},{\"args\":[{\"visible\":[false,false,false,false,false,false,false,false,false,false,false,false,false,false,false,false,false,false,false,false,false,false,false,false,false,false,false,false,false,false,false,false,false,false,false,false,false,false,false,false,false,false,false,false,false,false,true,false,false,false,false,false,false,false,false,false,false,false,false,false,false,false,false,false,false,false,false,false,false,false,false,false,false,false,false,false,false,false,false,false,false,false,false,false,false,false,false,false,false,false,false,false,false,false,false,false,false,false,false,false,false,false,false,false,false,false,false,false]},{\"title\":\"Scatter Plot - Serbia\"}],\"label\":\"Serbia\",\"method\":\"update\"},{\"args\":[{\"visible\":[false,false,false,false,false,false,false,false,false,false,false,false,false,false,false,false,false,false,false,false,false,false,false,false,false,false,false,false,false,false,false,false,false,false,false,false,false,false,false,false,false,false,false,false,false,false,false,true,false,false,false,false,false,false,false,false,false,false,false,false,false,false,false,false,false,false,false,false,false,false,false,false,false,false,false,false,false,false,false,false,false,false,false,false,false,false,false,false,false,false,false,false,false,false,false,false,false,false,false,false,false,false,false,false,false,false,false,false]},{\"title\":\"Scatter Plot - Dominican Republic\"}],\"label\":\"Dominican Republic\",\"method\":\"update\"},{\"args\":[{\"visible\":[false,false,false,false,false,false,false,false,false,false,false,false,false,false,false,false,false,false,false,false,false,false,false,false,false,false,false,false,false,false,false,false,false,false,false,false,false,false,false,false,false,false,false,false,false,false,false,false,true,false,false,false,false,false,false,false,false,false,false,false,false,false,false,false,false,false,false,false,false,false,false,false,false,false,false,false,false,false,false,false,false,false,false,false,false,false,false,false,false,false,false,false,false,false,false,false,false,false,false,false,false,false,false,false,false,false,false,false]},{\"title\":\"Scatter Plot - Venezuela\"}],\"label\":\"Venezuela\",\"method\":\"update\"},{\"args\":[{\"visible\":[false,false,false,false,false,false,false,false,false,false,false,false,false,false,false,false,false,false,false,false,false,false,false,false,false,false,false,false,false,false,false,false,false,false,false,false,false,false,false,false,false,false,false,false,false,false,false,false,false,true,false,false,false,false,false,false,false,false,false,false,false,false,false,false,false,false,false,false,false,false,false,false,false,false,false,false,false,false,false,false,false,false,false,false,false,false,false,false,false,false,false,false,false,false,false,false,false,false,false,false,false,false,false,false,false,false,false,false]},{\"title\":\"Scatter Plot - Bulgaria\"}],\"label\":\"Bulgaria\",\"method\":\"update\"},{\"args\":[{\"visible\":[false,false,false,false,false,false,false,false,false,false,false,false,false,false,false,false,false,false,false,false,false,false,false,false,false,false,false,false,false,false,false,false,false,false,false,false,false,false,false,false,false,false,false,false,false,false,false,false,false,false,true,false,false,false,false,false,false,false,false,false,false,false,false,false,false,false,false,false,false,false,false,false,false,false,false,false,false,false,false,false,false,false,false,false,false,false,false,false,false,false,false,false,false,false,false,false,false,false,false,false,false,false,false,false,false,false,false,false]},{\"title\":\"Scatter Plot - Guatemala\"}],\"label\":\"Guatemala\",\"method\":\"update\"},{\"args\":[{\"visible\":[false,false,false,false,false,false,false,false,false,false,false,false,false,false,false,false,false,false,false,false,false,false,false,false,false,false,false,false,false,false,false,false,false,false,false,false,false,false,false,false,false,false,false,false,false,false,false,false,false,false,false,true,false,false,false,false,false,false,false,false,false,false,false,false,false,false,false,false,false,false,false,false,false,false,false,false,false,false,false,false,false,false,false,false,false,false,false,false,false,false,false,false,false,false,false,false,false,false,false,false,false,false,false,false,false,false,false,false]},{\"title\":\"Scatter Plot - Chile\"}],\"label\":\"Chile\",\"method\":\"update\"},{\"args\":[{\"visible\":[false,false,false,false,false,false,false,false,false,false,false,false,false,false,false,false,false,false,false,false,false,false,false,false,false,false,false,false,false,false,false,false,false,false,false,false,false,false,false,false,false,false,false,false,false,false,false,false,false,false,false,false,true,false,false,false,false,false,false,false,false,false,false,false,false,false,false,false,false,false,false,false,false,false,false,false,false,false,false,false,false,false,false,false,false,false,false,false,false,false,false,false,false,false,false,false,false,false,false,false,false,false,false,false,false,false,false,false]},{\"title\":\"Scatter Plot - El Salvador\"}],\"label\":\"El Salvador\",\"method\":\"update\"},{\"args\":[{\"visible\":[false,false,false,false,false,false,false,false,false,false,false,false,false,false,false,false,false,false,false,false,false,false,false,false,false,false,false,false,false,false,false,false,false,false,false,false,false,false,false,false,false,false,false,false,false,false,false,false,false,false,false,false,false,true,false,false,false,false,false,false,false,false,false,false,false,false,false,false,false,false,false,false,false,false,false,false,false,false,false,false,false,false,false,false,false,false,false,false,false,false,false,false,false,false,false,false,false,false,false,false,false,false,false,false,false,false,false,false]},{\"title\":\"Scatter Plot - Mexico\"}],\"label\":\"Mexico\",\"method\":\"update\"},{\"args\":[{\"visible\":[false,false,false,false,false,false,false,false,false,false,false,false,false,false,false,false,false,false,false,false,false,false,false,false,false,false,false,false,false,false,false,false,false,false,false,false,false,false,false,false,false,false,false,false,false,false,false,false,false,false,false,false,false,false,true,false,false,false,false,false,false,false,false,false,false,false,false,false,false,false,false,false,false,false,false,false,false,false,false,false,false,false,false,false,false,false,false,false,false,false,false,false,false,false,false,false,false,false,false,false,false,false,false,false,false,false,false,false]},{\"title\":\"Scatter Plot - Poland\"}],\"label\":\"Poland\",\"method\":\"update\"},{\"args\":[{\"visible\":[false,false,false,false,false,false,false,false,false,false,false,false,false,false,false,false,false,false,false,false,false,false,false,false,false,false,false,false,false,false,false,false,false,false,false,false,false,false,false,false,false,false,false,false,false,false,false,false,false,false,false,false,false,false,false,true,false,false,false,false,false,false,false,false,false,false,false,false,false,false,false,false,false,false,false,false,false,false,false,false,false,false,false,false,false,false,false,false,false,false,false,false,false,false,false,false,false,false,false,false,false,false,false,false,false,false,false,false]},{\"title\":\"Scatter Plot - Armenia\"}],\"label\":\"Armenia\",\"method\":\"update\"},{\"args\":[{\"visible\":[false,false,false,false,false,false,false,false,false,false,false,false,false,false,false,false,false,false,false,false,false,false,false,false,false,false,false,false,false,false,false,false,false,false,false,false,false,false,false,false,false,false,false,false,false,false,false,false,false,false,false,false,false,false,false,false,true,false,false,false,false,false,false,false,false,false,false,false,false,false,false,false,false,false,false,false,false,false,false,false,false,false,false,false,false,false,false,false,false,false,false,false,false,false,false,false,false,false,false,false,false,false,false,false,false,false,false,false]},{\"title\":\"Scatter Plot - Jordan\"}],\"label\":\"Jordan\",\"method\":\"update\"},{\"args\":[{\"visible\":[false,false,false,false,false,false,false,false,false,false,false,false,false,false,false,false,false,false,false,false,false,false,false,false,false,false,false,false,false,false,false,false,false,false,false,false,false,false,false,false,false,false,false,false,false,false,false,false,false,false,false,false,false,false,false,false,false,true,false,false,false,false,false,false,false,false,false,false,false,false,false,false,false,false,false,false,false,false,false,false,false,false,false,false,false,false,false,false,false,false,false,false,false,false,false,false,false,false,false,false,false,false,false,false,false,false,false,false]},{\"title\":\"Scatter Plot - Hungary\"}],\"label\":\"Hungary\",\"method\":\"update\"},{\"args\":[{\"visible\":[false,false,false,false,false,false,false,false,false,false,false,false,false,false,false,false,false,false,false,false,false,false,false,false,false,false,false,false,false,false,false,false,false,false,false,false,false,false,false,false,false,false,false,false,false,false,false,false,false,false,false,false,false,false,false,false,false,false,true,false,false,false,false,false,false,false,false,false,false,false,false,false,false,false,false,false,false,false,false,false,false,false,false,false,false,false,false,false,false,false,false,false,false,false,false,false,false,false,false,false,false,false,false,false,false,false,false,false]},{\"title\":\"Scatter Plot - Lebanon\"}],\"label\":\"Lebanon\",\"method\":\"update\"},{\"args\":[{\"visible\":[false,false,false,false,false,false,false,false,false,false,false,false,false,false,false,false,false,false,false,false,false,false,false,false,false,false,false,false,false,false,false,false,false,false,false,false,false,false,false,false,false,false,false,false,false,false,false,false,false,false,false,false,false,false,false,false,false,false,false,true,false,false,false,false,false,false,false,false,false,false,false,false,false,false,false,false,false,false,false,false,false,false,false,false,false,false,false,false,false,false,false,false,false,false,false,false,false,false,false,false,false,false,false,false,false,false,false,false]},{\"title\":\"Scatter Plot - Albania\"}],\"label\":\"Albania\",\"method\":\"update\"},{\"args\":[{\"visible\":[false,false,false,false,false,false,false,false,false,false,false,false,false,false,false,false,false,false,false,false,false,false,false,false,false,false,false,false,false,false,false,false,false,false,false,false,false,false,false,false,false,false,false,false,false,false,false,false,false,false,false,false,false,false,false,false,false,false,false,false,true,false,false,false,false,false,false,false,false,false,false,false,false,false,false,false,false,false,false,false,false,false,false,false,false,false,false,false,false,false,false,false,false,false,false,false,false,false,false,false,false,false,false,false,false,false,false,false]},{\"title\":\"Scatter Plot - Kuwait\"}],\"label\":\"Kuwait\",\"method\":\"update\"},{\"args\":[{\"visible\":[false,false,false,false,false,false,false,false,false,false,false,false,false,false,false,false,false,false,false,false,false,false,false,false,false,false,false,false,false,false,false,false,false,false,false,false,false,false,false,false,false,false,false,false,false,false,false,false,false,false,false,false,false,false,false,false,false,false,false,false,false,true,false,false,false,false,false,false,false,false,false,false,false,false,false,false,false,false,false,false,false,false,false,false,false,false,false,false,false,false,false,false,false,false,false,false,false,false,false,false,false,false,false,false,false,false,false,false]},{\"title\":\"Scatter Plot - Oman\"}],\"label\":\"Oman\",\"method\":\"update\"},{\"args\":[{\"visible\":[false,false,false,false,false,false,false,false,false,false,false,false,false,false,false,false,false,false,false,false,false,false,false,false,false,false,false,false,false,false,false,false,false,false,false,false,false,false,false,false,false,false,false,false,false,false,false,false,false,false,false,false,false,false,false,false,false,false,false,false,false,false,true,false,false,false,false,false,false,false,false,false,false,false,false,false,false,false,false,false,false,false,false,false,false,false,false,false,false,false,false,false,false,false,false,false,false,false,false,false,false,false,false,false,false,false,false,false]},{\"title\":\"Scatter Plot - Portugal\"}],\"label\":\"Portugal\",\"method\":\"update\"},{\"args\":[{\"visible\":[false,false,false,false,false,false,false,false,false,false,false,false,false,false,false,false,false,false,false,false,false,false,false,false,false,false,false,false,false,false,false,false,false,false,false,false,false,false,false,false,false,false,false,false,false,false,false,false,false,false,false,false,false,false,false,false,false,false,false,false,false,false,false,true,false,false,false,false,false,false,false,false,false,false,false,false,false,false,false,false,false,false,false,false,false,false,false,false,false,false,false,false,false,false,false,false,false,false,false,false,false,false,false,false,false,false,false,false]},{\"title\":\"Scatter Plot - Taiwan\"}],\"label\":\"Taiwan\",\"method\":\"update\"},{\"args\":[{\"visible\":[false,false,false,false,false,false,false,false,false,false,false,false,false,false,false,false,false,false,false,false,false,false,false,false,false,false,false,false,false,false,false,false,false,false,false,false,false,false,false,false,false,false,false,false,false,false,false,false,false,false,false,false,false,false,false,false,false,false,false,false,false,false,false,false,true,false,false,false,false,false,false,false,false,false,false,false,false,false,false,false,false,false,false,false,false,false,false,false,false,false,false,false,false,false,false,false,false,false,false,false,false,false,false,false,false,false,false,false]},{\"title\":\"Scatter Plot - Saudi Arabia\"}],\"label\":\"Saudi Arabia\",\"method\":\"update\"},{\"args\":[{\"visible\":[false,false,false,false,false,false,false,false,false,false,false,false,false,false,false,false,false,false,false,false,false,false,false,false,false,false,false,false,false,false,false,false,false,false,false,false,false,false,false,false,false,false,false,false,false,false,false,false,false,false,false,false,false,false,false,false,false,false,false,false,false,false,false,false,false,true,false,false,false,false,false,false,false,false,false,false,false,false,false,false,false,false,false,false,false,false,false,false,false,false,false,false,false,false,false,false,false,false,false,false,false,false,false,false,false,false,false,false]},{\"title\":\"Scatter Plot - Croatia\"}],\"label\":\"Croatia\",\"method\":\"update\"},{\"args\":[{\"visible\":[false,false,false,false,false,false,false,false,false,false,false,false,false,false,false,false,false,false,false,false,false,false,false,false,false,false,false,false,false,false,false,false,false,false,false,false,false,false,false,false,false,false,false,false,false,false,false,false,false,false,false,false,false,false,false,false,false,false,false,false,false,false,false,false,false,false,true,false,false,false,false,false,false,false,false,false,false,false,false,false,false,false,false,false,false,false,false,false,false,false,false,false,false,false,false,false,false,false,false,false,false,false,false,false,false,false,false,false]},{\"title\":\"Scatter Plot - Japan\"}],\"label\":\"Japan\",\"method\":\"update\"},{\"args\":[{\"visible\":[false,false,false,false,false,false,false,false,false,false,false,false,false,false,false,false,false,false,false,false,false,false,false,false,false,false,false,false,false,false,false,false,false,false,false,false,false,false,false,false,false,false,false,false,false,false,false,false,false,false,false,false,false,false,false,false,false,false,false,false,false,false,false,false,false,false,false,true,false,false,false,false,false,false,false,false,false,false,false,false,false,false,false,false,false,false,false,false,false,false,false,false,false,false,false,false,false,false,false,false,false,false,false,false,false,false,false,false]},{\"title\":\"Scatter Plot - Panama\"}],\"label\":\"Panama\",\"method\":\"update\"},{\"args\":[{\"visible\":[false,false,false,false,false,false,false,false,false,false,false,false,false,false,false,false,false,false,false,false,false,false,false,false,false,false,false,false,false,false,false,false,false,false,false,false,false,false,false,false,false,false,false,false,false,false,false,false,false,false,false,false,false,false,false,false,false,false,false,false,false,false,false,false,false,false,false,false,true,false,false,false,false,false,false,false,false,false,false,false,false,false,false,false,false,false,false,false,false,false,false,false,false,false,false,false,false,false,false,false,false,false,false,false,false,false,false,false]},{\"title\":\"Scatter Plot - Czech Republic\"}],\"label\":\"Czech Republic\",\"method\":\"update\"},{\"args\":[{\"visible\":[false,false,false,false,false,false,false,false,false,false,false,false,false,false,false,false,false,false,false,false,false,false,false,false,false,false,false,false,false,false,false,false,false,false,false,false,false,false,false,false,false,false,false,false,false,false,false,false,false,false,false,false,false,false,false,false,false,false,false,false,false,false,false,false,false,false,false,false,false,true,false,false,false,false,false,false,false,false,false,false,false,false,false,false,false,false,false,false,false,false,false,false,false,false,false,false,false,false,false,false,false,false,false,false,false,false,false,false]},{\"title\":\"Scatter Plot - Slovakia\"}],\"label\":\"Slovakia\",\"method\":\"update\"},{\"args\":[{\"visible\":[false,false,false,false,false,false,false,false,false,false,false,false,false,false,false,false,false,false,false,false,false,false,false,false,false,false,false,false,false,false,false,false,false,false,false,false,false,false,false,false,false,false,false,false,false,false,false,false,false,false,false,false,false,false,false,false,false,false,false,false,false,false,false,false,false,false,false,false,false,false,true,false,false,false,false,false,false,false,false,false,false,false,false,false,false,false,false,false,false,false,false,false,false,false,false,false,false,false,false,false,false,false,false,false,false,false,false,false]},{\"title\":\"Scatter Plot - Lithuania\"}],\"label\":\"Lithuania\",\"method\":\"update\"},{\"args\":[{\"visible\":[false,false,false,false,false,false,false,false,false,false,false,false,false,false,false,false,false,false,false,false,false,false,false,false,false,false,false,false,false,false,false,false,false,false,false,false,false,false,false,false,false,false,false,false,false,false,false,false,false,false,false,false,false,false,false,false,false,false,false,false,false,false,false,false,false,false,false,false,false,false,false,true,false,false,false,false,false,false,false,false,false,false,false,false,false,false,false,false,false,false,false,false,false,false,false,false,false,false,false,false,false,false,false,false,false,false,false,false]},{\"title\":\"Scatter Plot - Spain\"}],\"label\":\"Spain\",\"method\":\"update\"},{\"args\":[{\"visible\":[false,false,false,false,false,false,false,false,false,false,false,false,false,false,false,false,false,false,false,false,false,false,false,false,false,false,false,false,false,false,false,false,false,false,false,false,false,false,false,false,false,false,false,false,false,false,false,false,false,false,false,false,false,false,false,false,false,false,false,false,false,false,false,false,false,false,false,false,false,false,false,false,true,false,false,false,false,false,false,false,false,false,false,false,false,false,false,false,false,false,false,false,false,false,false,false,false,false,false,false,false,false,false,false,false,false,false,false]},{\"title\":\"Scatter Plot - Latvia\"}],\"label\":\"Latvia\",\"method\":\"update\"},{\"args\":[{\"visible\":[false,false,false,false,false,false,false,false,false,false,false,false,false,false,false,false,false,false,false,false,false,false,false,false,false,false,false,false,false,false,false,false,false,false,false,false,false,false,false,false,false,false,false,false,false,false,false,false,false,false,false,false,false,false,false,false,false,false,false,false,false,false,false,false,false,false,false,false,false,false,false,false,false,true,false,false,false,false,false,false,false,false,false,false,false,false,false,false,false,false,false,false,false,false,false,false,false,false,false,false,false,false,false,false,false,false,false,false]},{\"title\":\"Scatter Plot - Slovenia\"}],\"label\":\"Slovenia\",\"method\":\"update\"},{\"args\":[{\"visible\":[false,false,false,false,false,false,false,false,false,false,false,false,false,false,false,false,false,false,false,false,false,false,false,false,false,false,false,false,false,false,false,false,false,false,false,false,false,false,false,false,false,false,false,false,false,false,false,false,false,false,false,false,false,false,false,false,false,false,false,false,false,false,false,false,false,false,false,false,false,false,false,false,false,false,true,false,false,false,false,false,false,false,false,false,false,false,false,false,false,false,false,false,false,false,false,false,false,false,false,false,false,false,false,false,false,false,false,false]},{\"title\":\"Scatter Plot - Qatar\"}],\"label\":\"Qatar\",\"method\":\"update\"},{\"args\":[{\"visible\":[false,false,false,false,false,false,false,false,false,false,false,false,false,false,false,false,false,false,false,false,false,false,false,false,false,false,false,false,false,false,false,false,false,false,false,false,false,false,false,false,false,false,false,false,false,false,false,false,false,false,false,false,false,false,false,false,false,false,false,false,false,false,false,false,false,false,false,false,false,false,false,false,false,false,false,true,false,false,false,false,false,false,false,false,false,false,false,false,false,false,false,false,false,false,false,false,false,false,false,false,false,false,false,false,false,false,false,false]},{\"title\":\"Scatter Plot - Greece\"}],\"label\":\"Greece\",\"method\":\"update\"},{\"args\":[{\"visible\":[false,false,false,false,false,false,false,false,false,false,false,false,false,false,false,false,false,false,false,false,false,false,false,false,false,false,false,false,false,false,false,false,false,false,false,false,false,false,false,false,false,false,false,false,false,false,false,false,false,false,false,false,false,false,false,false,false,false,false,false,false,false,false,false,false,false,false,false,false,false,false,false,false,false,false,false,true,false,false,false,false,false,false,false,false,false,false,false,false,false,false,false,false,false,false,false,false,false,false,false,false,false,false,false,false,false,false,false]},{\"title\":\"Scatter Plot - Estonia\"}],\"label\":\"Estonia\",\"method\":\"update\"},{\"args\":[{\"visible\":[false,false,false,false,false,false,false,false,false,false,false,false,false,false,false,false,false,false,false,false,false,false,false,false,false,false,false,false,false,false,false,false,false,false,false,false,false,false,false,false,false,false,false,false,false,false,false,false,false,false,false,false,false,false,false,false,false,false,false,false,false,false,false,false,false,false,false,false,false,false,false,false,false,false,false,false,false,true,false,false,false,false,false,false,false,false,false,false,false,false,false,false,false,false,false,false,false,false,false,false,false,false,false,false,false,false,false,false]},{\"title\":\"Scatter Plot - Bahrain\"}],\"label\":\"Bahrain\",\"method\":\"update\"},{\"args\":[{\"visible\":[false,false,false,false,false,false,false,false,false,false,false,false,false,false,false,false,false,false,false,false,false,false,false,false,false,false,false,false,false,false,false,false,false,false,false,false,false,false,false,false,false,false,false,false,false,false,false,false,false,false,false,false,false,false,false,false,false,false,false,false,false,false,false,false,false,false,false,false,false,false,false,false,false,false,false,false,false,false,true,false,false,false,false,false,false,false,false,false,false,false,false,false,false,false,false,false,false,false,false,false,false,false,false,false,false,false,false,false]},{\"title\":\"Scatter Plot - Costa Rica\"}],\"label\":\"Costa Rica\",\"method\":\"update\"},{\"args\":[{\"visible\":[false,false,false,false,false,false,false,false,false,false,false,false,false,false,false,false,false,false,false,false,false,false,false,false,false,false,false,false,false,false,false,false,false,false,false,false,false,false,false,false,false,false,false,false,false,false,false,false,false,false,false,false,false,false,false,false,false,false,false,false,false,false,false,false,false,false,false,false,false,false,false,false,false,false,false,false,false,false,false,true,false,false,false,false,false,false,false,false,false,false,false,false,false,false,false,false,false,false,false,false,false,false,false,false,false,false,false,false]},{\"title\":\"Scatter Plot - Malta\"}],\"label\":\"Malta\",\"method\":\"update\"},{\"args\":[{\"visible\":[false,false,false,false,false,false,false,false,false,false,false,false,false,false,false,false,false,false,false,false,false,false,false,false,false,false,false,false,false,false,false,false,false,false,false,false,false,false,false,false,false,false,false,false,false,false,false,false,false,false,false,false,false,false,false,false,false,false,false,false,false,false,false,false,false,false,false,false,false,false,false,false,false,false,false,false,false,false,false,false,true,false,false,false,false,false,false,false,false,false,false,false,false,false,false,false,false,false,false,false,false,false,false,false,false,false,false,false]},{\"title\":\"Scatter Plot - Jamaica\"}],\"label\":\"Jamaica\",\"method\":\"update\"},{\"args\":[{\"visible\":[false,false,false,false,false,false,false,false,false,false,false,false,false,false,false,false,false,false,false,false,false,false,false,false,false,false,false,false,false,false,false,false,false,false,false,false,false,false,false,false,false,false,false,false,false,false,false,false,false,false,false,false,false,false,false,false,false,false,false,false,false,false,false,false,false,false,false,false,false,false,false,false,false,false,false,false,false,false,false,false,false,true,false,false,false,false,false,false,false,false,false,false,false,false,false,false,false,false,false,false,false,false,false,false,false,false,false,false]},{\"title\":\"Scatter Plot - Uruguay\"}],\"label\":\"Uruguay\",\"method\":\"update\"},{\"args\":[{\"visible\":[false,false,false,false,false,false,false,false,false,false,false,false,false,false,false,false,false,false,false,false,false,false,false,false,false,false,false,false,false,false,false,false,false,false,false,false,false,false,false,false,false,false,false,false,false,false,false,false,false,false,false,false,false,false,false,false,false,false,false,false,false,false,false,false,false,false,false,false,false,false,false,false,false,false,false,false,false,false,false,false,false,false,true,false,false,false,false,false,false,false,false,false,false,false,false,false,false,false,false,false,false,false,false,false,false,false,false,false]},{\"title\":\"Scatter Plot - Cyprus\"}],\"label\":\"Cyprus\",\"method\":\"update\"},{\"args\":[{\"visible\":[false,false,false,false,false,false,false,false,false,false,false,false,false,false,false,false,false,false,false,false,false,false,false,false,false,false,false,false,false,false,false,false,false,false,false,false,false,false,false,false,false,false,false,false,false,false,false,false,false,false,false,false,false,false,false,false,false,false,false,false,false,false,false,false,false,false,false,false,false,false,false,false,false,false,false,false,false,false,false,false,false,false,false,true,false,false,false,false,false,false,false,false,false,false,false,false,false,false,false,false,false,false,false,false,false,false,false,false]},{\"title\":\"Scatter Plot - United Arab Emirates\"}],\"label\":\"United Arab Emirates\",\"method\":\"update\"},{\"args\":[{\"visible\":[false,false,false,false,false,false,false,false,false,false,false,false,false,false,false,false,false,false,false,false,false,false,false,false,false,false,false,false,false,false,false,false,false,false,false,false,false,false,false,false,false,false,false,false,false,false,false,false,false,false,false,false,false,false,false,false,false,false,false,false,false,false,false,false,false,false,false,false,false,false,false,false,false,false,false,false,false,false,false,false,false,false,false,false,true,false,false,false,false,false,false,false,false,false,false,false,false,false,false,false,false,false,false,false,false,false,false,false]},{\"title\":\"Scatter Plot - Italy\"}],\"label\":\"Italy\",\"method\":\"update\"},{\"args\":[{\"visible\":[false,false,false,false,false,false,false,false,false,false,false,false,false,false,false,false,false,false,false,false,false,false,false,false,false,false,false,false,false,false,false,false,false,false,false,false,false,false,false,false,false,false,false,false,false,false,false,false,false,false,false,false,false,false,false,false,false,false,false,false,false,false,false,false,false,false,false,false,false,false,false,false,false,false,false,false,false,false,false,false,false,false,false,false,false,true,false,false,false,false,false,false,false,false,false,false,false,false,false,false,false,false,false,false,false,false,false,false]},{\"title\":\"Scatter Plot - Sweden\"}],\"label\":\"Sweden\",\"method\":\"update\"},{\"args\":[{\"visible\":[false,false,false,false,false,false,false,false,false,false,false,false,false,false,false,false,false,false,false,false,false,false,false,false,false,false,false,false,false,false,false,false,false,false,false,false,false,false,false,false,false,false,false,false,false,false,false,false,false,false,false,false,false,false,false,false,false,false,false,false,false,false,false,false,false,false,false,false,false,false,false,false,false,false,false,false,false,false,false,false,false,false,false,false,false,false,true,false,false,false,false,false,false,false,false,false,false,false,false,false,false,false,false,false,false,false,false,false]},{\"title\":\"Scatter Plot - South Korea\"}],\"label\":\"South Korea\",\"method\":\"update\"},{\"args\":[{\"visible\":[false,false,false,false,false,false,false,false,false,false,false,false,false,false,false,false,false,false,false,false,false,false,false,false,false,false,false,false,false,false,false,false,false,false,false,false,false,false,false,false,false,false,false,false,false,false,false,false,false,false,false,false,false,false,false,false,false,false,false,false,false,false,false,false,false,false,false,false,false,false,false,false,false,false,false,false,false,false,false,false,false,false,false,false,false,false,false,true,false,false,false,false,false,false,false,false,false,false,false,false,false,false,false,false,false,false,false,false]},{\"title\":\"Scatter Plot - Belgium\"}],\"label\":\"Belgium\",\"method\":\"update\"},{\"args\":[{\"visible\":[false,false,false,false,false,false,false,false,false,false,false,false,false,false,false,false,false,false,false,false,false,false,false,false,false,false,false,false,false,false,false,false,false,false,false,false,false,false,false,false,false,false,false,false,false,false,false,false,false,false,false,false,false,false,false,false,false,false,false,false,false,false,false,false,false,false,false,false,false,false,false,false,false,false,false,false,false,false,false,false,false,false,false,false,false,false,false,false,true,false,false,false,false,false,false,false,false,false,false,false,false,false,false,false,false,false,false,false]},{\"title\":\"Scatter Plot - United Kingdom\"}],\"label\":\"United Kingdom\",\"method\":\"update\"},{\"args\":[{\"visible\":[false,false,false,false,false,false,false,false,false,false,false,false,false,false,false,false,false,false,false,false,false,false,false,false,false,false,false,false,false,false,false,false,false,false,false,false,false,false,false,false,false,false,false,false,false,false,false,false,false,false,false,false,false,false,false,false,false,false,false,false,false,false,false,false,false,false,false,false,false,false,false,false,false,false,false,false,false,false,false,false,false,false,false,false,false,false,false,false,false,true,false,false,false,false,false,false,false,false,false,false,false,false,false,false,false,false,false,false]},{\"title\":\"Scatter Plot - Germany\"}],\"label\":\"Germany\",\"method\":\"update\"},{\"args\":[{\"visible\":[false,false,false,false,false,false,false,false,false,false,false,false,false,false,false,false,false,false,false,false,false,false,false,false,false,false,false,false,false,false,false,false,false,false,false,false,false,false,false,false,false,false,false,false,false,false,false,false,false,false,false,false,false,false,false,false,false,false,false,false,false,false,false,false,false,false,false,false,false,false,false,false,false,false,false,false,false,false,false,false,false,false,false,false,false,false,false,false,false,false,true,false,false,false,false,false,false,false,false,false,false,false,false,false,false,false,false,false]},{\"title\":\"Scatter Plot - Luxembourg\"}],\"label\":\"Luxembourg\",\"method\":\"update\"},{\"args\":[{\"visible\":[false,false,false,false,false,false,false,false,false,false,false,false,false,false,false,false,false,false,false,false,false,false,false,false,false,false,false,false,false,false,false,false,false,false,false,false,false,false,false,false,false,false,false,false,false,false,false,false,false,false,false,false,false,false,false,false,false,false,false,false,false,false,false,false,false,false,false,false,false,false,false,false,false,false,false,false,false,false,false,false,false,false,false,false,false,false,false,false,false,false,false,true,false,false,false,false,false,false,false,false,false,false,false,false,false,false,false,false]},{\"title\":\"Scatter Plot - Israel\"}],\"label\":\"Israel\",\"method\":\"update\"},{\"args\":[{\"visible\":[false,false,false,false,false,false,false,false,false,false,false,false,false,false,false,false,false,false,false,false,false,false,false,false,false,false,false,false,false,false,false,false,false,false,false,false,false,false,false,false,false,false,false,false,false,false,false,false,false,false,false,false,false,false,false,false,false,false,false,false,false,false,false,false,false,false,false,false,false,false,false,false,false,false,false,false,false,false,false,false,false,false,false,false,false,false,false,false,false,false,false,false,true,false,false,false,false,false,false,false,false,false,false,false,false,false,false,false]},{\"title\":\"Scatter Plot - Netherlands\"}],\"label\":\"Netherlands\",\"method\":\"update\"},{\"args\":[{\"visible\":[false,false,false,false,false,false,false,false,false,false,false,false,false,false,false,false,false,false,false,false,false,false,false,false,false,false,false,false,false,false,false,false,false,false,false,false,false,false,false,false,false,false,false,false,false,false,false,false,false,false,false,false,false,false,false,false,false,false,false,false,false,false,false,false,false,false,false,false,false,false,false,false,false,false,false,false,false,false,false,false,false,false,false,false,false,false,false,false,false,false,false,false,false,true,false,false,false,false,false,false,false,false,false,false,false,false,false,false]},{\"title\":\"Scatter Plot - Finland\"}],\"label\":\"Finland\",\"method\":\"update\"},{\"args\":[{\"visible\":[false,false,false,false,false,false,false,false,false,false,false,false,false,false,false,false,false,false,false,false,false,false,false,false,false,false,false,false,false,false,false,false,false,false,false,false,false,false,false,false,false,false,false,false,false,false,false,false,false,false,false,false,false,false,false,false,false,false,false,false,false,false,false,false,false,false,false,false,false,false,false,false,false,false,false,false,false,false,false,false,false,false,false,false,false,false,false,false,false,false,false,false,false,false,true,false,false,false,false,false,false,false,false,false,false,false,false,false]},{\"title\":\"Scatter Plot - France\"}],\"label\":\"France\",\"method\":\"update\"},{\"args\":[{\"visible\":[false,false,false,false,false,false,false,false,false,false,false,false,false,false,false,false,false,false,false,false,false,false,false,false,false,false,false,false,false,false,false,false,false,false,false,false,false,false,false,false,false,false,false,false,false,false,false,false,false,false,false,false,false,false,false,false,false,false,false,false,false,false,false,false,false,false,false,false,false,false,false,false,false,false,false,false,false,false,false,false,false,false,false,false,false,false,false,false,false,false,false,false,false,false,false,true,false,false,false,false,false,false,false,false,false,false,false,false]},{\"title\":\"Scatter Plot - Ireland\"}],\"label\":\"Ireland\",\"method\":\"update\"},{\"args\":[{\"visible\":[false,false,false,false,false,false,false,false,false,false,false,false,false,false,false,false,false,false,false,false,false,false,false,false,false,false,false,false,false,false,false,false,false,false,false,false,false,false,false,false,false,false,false,false,false,false,false,false,false,false,false,false,false,false,false,false,false,false,false,false,false,false,false,false,false,false,false,false,false,false,false,false,false,false,false,false,false,false,false,false,false,false,false,false,false,false,false,false,false,false,false,false,false,false,false,false,true,false,false,false,false,false,false,false,false,false,false,false]},{\"title\":\"Scatter Plot - New Zealand\"}],\"label\":\"New Zealand\",\"method\":\"update\"},{\"args\":[{\"visible\":[false,false,false,false,false,false,false,false,false,false,false,false,false,false,false,false,false,false,false,false,false,false,false,false,false,false,false,false,false,false,false,false,false,false,false,false,false,false,false,false,false,false,false,false,false,false,false,false,false,false,false,false,false,false,false,false,false,false,false,false,false,false,false,false,false,false,false,false,false,false,false,false,false,false,false,false,false,false,false,false,false,false,false,false,false,false,false,false,false,false,false,false,false,false,false,false,false,true,false,false,false,false,false,false,false,false,false,false]},{\"title\":\"Scatter Plot - Canada\"}],\"label\":\"Canada\",\"method\":\"update\"},{\"args\":[{\"visible\":[false,false,false,false,false,false,false,false,false,false,false,false,false,false,false,false,false,false,false,false,false,false,false,false,false,false,false,false,false,false,false,false,false,false,false,false,false,false,false,false,false,false,false,false,false,false,false,false,false,false,false,false,false,false,false,false,false,false,false,false,false,false,false,false,false,false,false,false,false,false,false,false,false,false,false,false,false,false,false,false,false,false,false,false,false,false,false,false,false,false,false,false,false,false,false,false,false,false,true,false,false,false,false,false,false,false,false,false]},{\"title\":\"Scatter Plot - Austria\"}],\"label\":\"Austria\",\"method\":\"update\"},{\"args\":[{\"visible\":[false,false,false,false,false,false,false,false,false,false,false,false,false,false,false,false,false,false,false,false,false,false,false,false,false,false,false,false,false,false,false,false,false,false,false,false,false,false,false,false,false,false,false,false,false,false,false,false,false,false,false,false,false,false,false,false,false,false,false,false,false,false,false,false,false,false,false,false,false,false,false,false,false,false,false,false,false,false,false,false,false,false,false,false,false,false,false,false,false,false,false,false,false,false,false,false,false,false,false,true,false,false,false,false,false,false,false,false]},{\"title\":\"Scatter Plot - Australia\"}],\"label\":\"Australia\",\"method\":\"update\"},{\"args\":[{\"visible\":[false,false,false,false,false,false,false,false,false,false,false,false,false,false,false,false,false,false,false,false,false,false,false,false,false,false,false,false,false,false,false,false,false,false,false,false,false,false,false,false,false,false,false,false,false,false,false,false,false,false,false,false,false,false,false,false,false,false,false,false,false,false,false,false,false,false,false,false,false,false,false,false,false,false,false,false,false,false,false,false,false,false,false,false,false,false,false,false,false,false,false,false,false,false,false,false,false,false,false,false,true,false,false,false,false,false,false,false]},{\"title\":\"Scatter Plot - United States\"}],\"label\":\"United States\",\"method\":\"update\"},{\"args\":[{\"visible\":[false,false,false,false,false,false,false,false,false,false,false,false,false,false,false,false,false,false,false,false,false,false,false,false,false,false,false,false,false,false,false,false,false,false,false,false,false,false,false,false,false,false,false,false,false,false,false,false,false,false,false,false,false,false,false,false,false,false,false,false,false,false,false,false,false,false,false,false,false,false,false,false,false,false,false,false,false,false,false,false,false,false,false,false,false,false,false,false,false,false,false,false,false,false,false,false,false,false,false,false,false,true,false,false,false,false,false,false]},{\"title\":\"Scatter Plot - Denmark\"}],\"label\":\"Denmark\",\"method\":\"update\"},{\"args\":[{\"visible\":[false,false,false,false,false,false,false,false,false,false,false,false,false,false,false,false,false,false,false,false,false,false,false,false,false,false,false,false,false,false,false,false,false,false,false,false,false,false,false,false,false,false,false,false,false,false,false,false,false,false,false,false,false,false,false,false,false,false,false,false,false,false,false,false,false,false,false,false,false,false,false,false,false,false,false,false,false,false,false,false,false,false,false,false,false,false,false,false,false,false,false,false,false,false,false,false,false,false,false,false,false,false,true,false,false,false,false,false]},{\"title\":\"Scatter Plot - Norway\"}],\"label\":\"Norway\",\"method\":\"update\"},{\"args\":[{\"visible\":[false,false,false,false,false,false,false,false,false,false,false,false,false,false,false,false,false,false,false,false,false,false,false,false,false,false,false,false,false,false,false,false,false,false,false,false,false,false,false,false,false,false,false,false,false,false,false,false,false,false,false,false,false,false,false,false,false,false,false,false,false,false,false,false,false,false,false,false,false,false,false,false,false,false,false,false,false,false,false,false,false,false,false,false,false,false,false,false,false,false,false,false,false,false,false,false,false,false,false,false,false,false,false,true,false,false,false,false]},{\"title\":\"Scatter Plot - Barbados\"}],\"label\":\"Barbados\",\"method\":\"update\"},{\"args\":[{\"visible\":[false,false,false,false,false,false,false,false,false,false,false,false,false,false,false,false,false,false,false,false,false,false,false,false,false,false,false,false,false,false,false,false,false,false,false,false,false,false,false,false,false,false,false,false,false,false,false,false,false,false,false,false,false,false,false,false,false,false,false,false,false,false,false,false,false,false,false,false,false,false,false,false,false,false,false,false,false,false,false,false,false,false,false,false,false,false,false,false,false,false,false,false,false,false,false,false,false,false,false,false,false,false,false,false,true,false,false,false]},{\"title\":\"Scatter Plot - Singapore\"}],\"label\":\"Singapore\",\"method\":\"update\"},{\"args\":[{\"visible\":[false,false,false,false,false,false,false,false,false,false,false,false,false,false,false,false,false,false,false,false,false,false,false,false,false,false,false,false,false,false,false,false,false,false,false,false,false,false,false,false,false,false,false,false,false,false,false,false,false,false,false,false,false,false,false,false,false,false,false,false,false,false,false,false,false,false,false,false,false,false,false,false,false,false,false,false,false,false,false,false,false,false,false,false,false,false,false,false,false,false,false,false,false,false,false,false,false,false,false,false,false,false,false,false,false,true,false,false]},{\"title\":\"Scatter Plot - Iceland\"}],\"label\":\"Iceland\",\"method\":\"update\"},{\"args\":[{\"visible\":[false,false,false,false,false,false,false,false,false,false,false,false,false,false,false,false,false,false,false,false,false,false,false,false,false,false,false,false,false,false,false,false,false,false,false,false,false,false,false,false,false,false,false,false,false,false,false,false,false,false,false,false,false,false,false,false,false,false,false,false,false,false,false,false,false,false,false,false,false,false,false,false,false,false,false,false,false,false,false,false,false,false,false,false,false,false,false,false,false,false,false,false,false,false,false,false,false,false,false,false,false,false,false,false,false,false,true,false]},{\"title\":\"Scatter Plot - Bahamas\"}],\"label\":\"Bahamas\",\"method\":\"update\"},{\"args\":[{\"visible\":[false,false,false,false,false,false,false,false,false,false,false,false,false,false,false,false,false,false,false,false,false,false,false,false,false,false,false,false,false,false,false,false,false,false,false,false,false,false,false,false,false,false,false,false,false,false,false,false,false,false,false,false,false,false,false,false,false,false,false,false,false,false,false,false,false,false,false,false,false,false,false,false,false,false,false,false,false,false,false,false,false,false,false,false,false,false,false,false,false,false,false,false,false,false,false,false,false,false,false,false,false,false,false,false,false,false,false,true]},{\"title\":\"Scatter Plot - Switzerland\"}],\"label\":\"Switzerland\",\"method\":\"update\"}],\"x\":0.0,\"xanchor\":\"left\",\"y\":1.1,\"yanchor\":\"top\"}]},                        {\"responsive\": true}                    ).then(function(){\n",
              "                            \n",
              "var gd = document.getElementById('f235ef07-197e-42fb-835a-37e0dbe157e3');\n",
              "var x = new MutationObserver(function (mutations, observer) {{\n",
              "        var display = window.getComputedStyle(gd).display;\n",
              "        if (!display || display === 'none') {{\n",
              "            console.log([gd, 'removed!']);\n",
              "            Plotly.purge(gd);\n",
              "            observer.disconnect();\n",
              "        }}\n",
              "}});\n",
              "\n",
              "// Listen for the removal of the full notebook cells\n",
              "var notebookContainer = gd.closest('#notebook-container');\n",
              "if (notebookContainer) {{\n",
              "    x.observe(notebookContainer, {childList: true});\n",
              "}}\n",
              "\n",
              "// Listen for the clearing of the current output cell\n",
              "var outputEl = gd.closest('.output');\n",
              "if (outputEl) {{\n",
              "    x.observe(outputEl, {childList: true});\n",
              "}}\n",
              "\n",
              "                        })                };                            </script>        </div>\n",
              "</body>\n",
              "</html>"
            ]
          },
          "metadata": {}
        }
      ]
    }
  ]
}